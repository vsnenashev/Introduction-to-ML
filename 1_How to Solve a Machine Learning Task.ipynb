{
 "cells": [
  {
   "cell_type": "markdown",
   "id": "bdae20d4",
   "metadata": {},
   "source": [
    "## Implementation of Linear Regression Model"
   ]
  },
  {
   "cell_type": "code",
   "execution_count": 3,
   "id": "90cf315b",
   "metadata": {},
   "outputs": [],
   "source": [
    "def linear_regression_solution(ws, vectors):\n",
    "    \n",
    "    \"\"\"\n",
    "    Calculates predictions using a linear regression model.\n",
    "    \n",
    "    Arguments:\n",
    "        ws: List of weights, with the first being the intercept w_0.\n",
    "        vectors: List of feature vectors, each one less in length than `ws`.\n",
    "             The order of features matches the order in `ws` after w_0.\n",
    "\n",
    "    Returns:\n",
    "        List of predictions, each rounded to 2 decimal places.\n",
    "    \"\"\"\n",
    "    \n",
    "    res = []\n",
    "    for i in range(len(vectors)):\n",
    "        vect = ws[0]\n",
    "        for j in range(len(ws) - 1):\n",
    "            vect += ws[j + 1] * vectors[i][j]\n",
    "        res.append(vect)\n",
    "    return res       "
   ]
  },
  {
   "cell_type": "markdown",
   "id": "6dc232b3",
   "metadata": {},
   "source": [
    "## Calculation of Mean Deviation"
   ]
  },
  {
   "cell_type": "code",
   "execution_count": 4,
   "id": "eea2e82d",
   "metadata": {},
   "outputs": [],
   "source": [
    "def mean_absolute_difference_solution(real, predicted):\n",
    "    \n",
    "    \"\"\"\n",
    "    Calculates the mean deviation between actual and predicted values.\n",
    "\n",
    "    Arguments:\n",
    "        real: List of actual values.\n",
    "        predicted: List of predicted values.\n",
    "\n",
    "    Returns:\n",
    "        Mean deviation, rounded to 2 decimal places.\n",
    "    \"\"\"\n",
    "    \n",
    "    res = 0\n",
    "    for i in range(len(real)):\n",
    "        res += abs(real[i] - predicted[i])\n",
    "    return res / len(real)"
   ]
  }
 ],
 "metadata": {
  "kernelspec": {
   "display_name": "Python 3 (ipykernel)",
   "language": "python",
   "name": "python3"
  },
  "language_info": {
   "codemirror_mode": {
    "name": "ipython",
    "version": 3
   },
   "file_extension": ".py",
   "mimetype": "text/x-python",
   "name": "python",
   "nbconvert_exporter": "python",
   "pygments_lexer": "ipython3",
   "version": "3.10.13"
  }
 },
 "nbformat": 4,
 "nbformat_minor": 5
}
