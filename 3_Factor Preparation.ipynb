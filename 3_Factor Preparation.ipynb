{
 "cells": [
  {
   "cell_type": "code",
   "execution_count": 1,
   "id": "551c3d84",
   "metadata": {},
   "outputs": [],
   "source": [
    "import pandas as pd\n",
    "import seaborn as sns"
   ]
  },
  {
   "cell_type": "markdown",
   "id": "26e0fec2",
   "metadata": {},
   "source": [
    "## Working with Dictionaries "
   ]
  },
  {
   "cell_type": "code",
   "execution_count": 1,
   "id": "437f8727",
   "metadata": {},
   "outputs": [],
   "source": [
    "def count_numbers_solution(list_of_data):\n",
    "    \"\"\"\n",
    "    Counts the occurrences of each integer value in a list.\n",
    "    \n",
    "    Args:\n",
    "        list_of_data: List of integer values to count.\n",
    "    \n",
    "    Returns:\n",
    "        Dictionary where each value from the input list is mapped to\n",
    "        the number of times it appears in the list.\n",
    "    \"\"\"\n",
    "\n",
    "    res = {}\n",
    "    for n in list_of_data:\n",
    "        res[n] = list_of_data.count(n)\n",
    "    return res"
   ]
  },
  {
   "cell_type": "markdown",
   "id": "78291539",
   "metadata": {},
   "source": [
    "## Encoding Factors Using New Binary Factors"
   ]
  },
  {
   "cell_type": "code",
   "execution_count": 2,
   "id": "c5b68f55",
   "metadata": {},
   "outputs": [],
   "source": [
    "def new_columns_solution(column):\n",
    "    \"\"\"\n",
    "    Encodes a categorical factor column into binary columns.\n",
    "    \n",
    "    Args:\n",
    "        column: Categorical factor column.\n",
    "    \n",
    "    Returns:\n",
    "        Dictionary mapping each category in the column to a list of 0s and 1s,\n",
    "        where a 1 indicates the presence of the category in the original column.\n",
    "    \"\"\"\n",
    "    \n",
    "    res = {}\n",
    "\n",
    "    categories = list(column.unique())\n",
    "    loc = len(column)\n",
    "    \n",
    "    for n in categories:\n",
    "        m = []\n",
    "        for i in range(loc):\n",
    "            if column.iloc[i] == n:\n",
    "                m.append(1)\n",
    "            else:\n",
    "                m.append(0)\n",
    "        res[n] = m\n",
    "\n",
    "    return res"
   ]
  },
  {
   "cell_type": "code",
   "execution_count": 3,
   "id": "1f3cb0fb",
   "metadata": {},
   "outputs": [],
   "source": [
    "def categorical_to_binary_solution(data, columns):\n",
    "    \"\"\"\n",
    "    Encodes categorical factors into binary factors in a table.\n",
    "    \n",
    "    Args:\n",
    "        data: Table with categorical factors.\n",
    "        columns: Columns with factors to encode.\n",
    "    \n",
    "    Returns:\n",
    "        Original table with additional binary factors for each specified categorical factor.\n",
    "    \"\"\"\n",
    "\n",
    "    for column in columns:\n",
    "        d = new_columns_solution(data[column])\n",
    "        for k, v in d.items():\n",
    "            data[k] = v\n",
    "\n",
    "    return data"
   ]
  },
  {
   "cell_type": "markdown",
   "id": "ff7851cc",
   "metadata": {},
   "source": [
    "## Target encoding"
   ]
  },
  {
   "cell_type": "code",
   "execution_count": 50,
   "id": "3ca89c0f",
   "metadata": {},
   "outputs": [],
   "source": [
    "def round_to_2(x):\n",
    "    \n",
    "    return round(x, 2)"
   ]
  },
  {
   "cell_type": "code",
   "execution_count": 4,
   "id": "a2ab1b78",
   "metadata": {},
   "outputs": [],
   "source": [
    "def target_coding_solution(data, factor_column, target_column):\n",
    "    \"\"\"\n",
    "    Encodes a factor in a table into target encoding.\n",
    "    \n",
    "    Args:\n",
    "        data: Original table.\n",
    "        factor_column: Name of the factor column to encode.\n",
    "        target_column: Name of the column containing the target value.\n",
    "    \n",
    "    Returns:\n",
    "        None. Adds a new column named \"encoded\" to the original table with the result of encoding.\n",
    "    \"\"\" \n",
    "    \n",
    "    a = data.groupby(factor_column, as_index=False).aggregate({target_column: 'mean'})\n",
    "    b = dict(zip(a[factor_column], list(map(lambda x: round(x, 2), a[target_column]))))\n",
    "    c = []\n",
    "    for el in data[factor_column]:\n",
    "        c.append(b[el])\n",
    "    data['encoded'] = c"
   ]
  },
  {
   "cell_type": "markdown",
   "id": "01d28ff6",
   "metadata": {},
   "source": [
    "## Standardization of factors"
   ]
  },
  {
   "cell_type": "code",
   "execution_count": 5,
   "id": "bcca4f20",
   "metadata": {},
   "outputs": [],
   "source": [
    "def standard_deviation_solution(column):\n",
    "    \"\"\"\n",
    "    Calculates the range of values in a column.\n",
    "    \n",
    "    Args:\n",
    "        column: Column with numerical values.\n",
    "    \n",
    "    Returns:\n",
    "        Range of values in the column.\n",
    "    \"\"\"\n",
    "\n",
    "    s0 = 0\n",
    "    sr = column.mean()\n",
    "    for el in column:\n",
    "        s0 += (el - sr) ** 2\n",
    "    return round_to_2((s0 / len(column)) ** (1/2))"
   ]
  },
  {
   "cell_type": "code",
   "execution_count": 6,
   "id": "636cb3fd",
   "metadata": {},
   "outputs": [],
   "source": [
    "def standartize_column_solution(column):\n",
    "    \"\"\"\n",
    "    Standardizes values in a column.\n",
    "    \n",
    "    Args:\n",
    "        column: Column with numerical values.\n",
    "    \n",
    "    Returns:\n",
    "        Column with standardized values.\n",
    "    \"\"\"\n",
    "    \n",
    "    s = standard_deviation_solution(column)\n",
    "    if s != 0:\n",
    "        sr = column.mean()\n",
    "        l = []\n",
    "        for x in column:\n",
    "            l.append((x - sr) / s)\n",
    "        res = pd.Series(l).round(2)\n",
    "    else:\n",
    "        res = pd.Series([0] * len(column)).astype('float')\n",
    "    return res"
   ]
  },
  {
   "cell_type": "markdown",
   "id": "d76f9f24",
   "metadata": {},
   "source": [
    "## Correlation"
   ]
  },
  {
   "cell_type": "code",
   "execution_count": 7,
   "id": "3e697852",
   "metadata": {},
   "outputs": [],
   "source": [
    "def correlation_solution(x, y):\n",
    "    \"\"\"\n",
    "    Calculates the correlation between two lists of numerical values.\n",
    "    \n",
    "    Args:\n",
    "        x: First list of numerical values.\n",
    "        y: Second list of numerical values.\n",
    "    \n",
    "    Returns:\n",
    "        Correlation between the values in the lists.\n",
    "    \"\"\"\n",
    "    \n",
    "    xsr = sum(x) / len(x)\n",
    "    ysr = sum(y) / len(y)\n",
    "    cor1, cor2, cor3 = 0, 0, 0\n",
    "    \n",
    "    for i in range(len(x)):\n",
    "        cor1 += (x[i] - xsr) * (y[i] - ysr)\n",
    "        cor2 += (x[i] - xsr) ** 2\n",
    "        cor3 += (y[i] - ysr) ** 2\n",
    "        \n",
    "    return round_to_2(cor1 / (cor2 * cor3) ** (1/2))"
   ]
  },
  {
   "cell_type": "code",
   "execution_count": 9,
   "id": "44f43753",
   "metadata": {},
   "outputs": [],
   "source": [
    "def correlation_one_line_solution(column_x, column_y):\n",
    "    \"\"\"\n",
    "    Calculates the correlation between values in two columns.\n",
    "    \n",
    "    Args:\n",
    "        column_x: First column with numerical values.\n",
    "        column_y: Second column with numerical values.\n",
    "    \n",
    "    Returns:\n",
    "        Correlation between values in the two columns.\n",
    "    \"\"\"\n",
    "    \n",
    "    return round_to_2(((column_x - column_x.mean()) * (column_y - column_y.mean())).sum() / ((((column_x - column_x.mean()) ** 2).sum() * ((column_y - column_y.mean()) ** 2).sum()) ** (1/2)))"
   ]
  },
  {
   "cell_type": "code",
   "execution_count": 10,
   "id": "e75ad9df",
   "metadata": {},
   "outputs": [],
   "source": [
    "def correlation_table_solution(table):\n",
    "    \"\"\"\n",
    "    Calculates correlations between columns of a data table.\n",
    "    \n",
    "    Args:\n",
    "        table: Table with numerical values.\n",
    "    \n",
    "    Returns:\n",
    "        Table of correlations between columns of the original table.\n",
    "    \"\"\"\n",
    "    \n",
    "    col = (table.columns)\n",
    "    res  = []\n",
    "    \n",
    "    for i in col:\n",
    "        res1 = []\n",
    "        \n",
    "        for j in col:\n",
    "            if j == i:\n",
    "                res1.append(1.0)\n",
    "            else:\n",
    "                res1.append(correlation_solution(table[i], table[j]))\n",
    "                \n",
    "        res.append(res1)    \n",
    "    return res"
   ]
  }
 ],
 "metadata": {
  "kernelspec": {
   "display_name": "Python 3 (ipykernel)",
   "language": "python",
   "name": "python3"
  },
  "language_info": {
   "codemirror_mode": {
    "name": "ipython",
    "version": 3
   },
   "file_extension": ".py",
   "mimetype": "text/x-python",
   "name": "python",
   "nbconvert_exporter": "python",
   "pygments_lexer": "ipython3",
   "version": "3.10.13"
  }
 },
 "nbformat": 4,
 "nbformat_minor": 5
}
