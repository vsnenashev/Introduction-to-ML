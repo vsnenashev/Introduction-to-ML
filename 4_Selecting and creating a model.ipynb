{
 "cells": [
  {
   "cell_type": "code",
   "execution_count": 1,
   "id": "11a56dd0",
   "metadata": {},
   "outputs": [],
   "source": [
    "from math import exp"
   ]
  },
  {
   "cell_type": "code",
   "execution_count": 2,
   "id": "6721df3e",
   "metadata": {},
   "outputs": [],
   "source": [
    "def round_to_2(x):\n",
    "    \n",
    "    return round(x, 2)"
   ]
  },
  {
   "cell_type": "markdown",
   "id": "ef2bf45f",
   "metadata": {
    "scrolled": true
   },
   "source": [
    "## Perceptron"
   ]
  },
  {
   "cell_type": "code",
   "execution_count": 3,
   "id": "c5ce83eb",
   "metadata": {},
   "outputs": [],
   "source": [
    "def sign(x):\n",
    "    \"\"\"\n",
    "    Returns 1 if the given numerical value is greater than 0, otherwise returns -1.\n",
    "    \n",
    "    Args:\n",
    "        x: Numerical value.\n",
    "    \n",
    "    Returns:\n",
    "        1 if x > 0, -1 otherwise.\n",
    "    \"\"\"\n",
    "    \n",
    "    if x > 0:\n",
    "        return 1\n",
    "    \n",
    "    return -1\n",
    "\n",
    "def sigmoid(x):\n",
    "    \"\"\"\n",
    "    Returns 1 / (1 + e^(-x)).\n",
    "    \n",
    "    Args:\n",
    "        x: Numerical value.\n",
    "    \n",
    "    Returns:\n",
    "        1 / (1 + e^(-x))\n",
    "    \"\"\"\n",
    "    \n",
    "    return round_to_2(1 / (1 + exp(-x)))\n",
    "\n",
    "def relu(x):\n",
    "    \"\"\"\n",
    "    Returns the maximum of x and 0.\n",
    "    \n",
    "    Args:\n",
    "        x: Numerical value.\n",
    "    \n",
    "    Returns:\n",
    "        Maximum of x and 0.\n",
    "    \"\"\"\n",
    "    \n",
    "    if x > 0:\n",
    "        return x\n",
    "    \n",
    "    return 0"
   ]
  },
  {
   "cell_type": "code",
   "execution_count": 4,
   "id": "056bdee9",
   "metadata": {},
   "outputs": [],
   "source": [
    "def perceptron_classify_solution(ws, xs, f=sign):\n",
    "    \"\"\"\n",
    "    Calculates perceptron predictions for a set of objects.\n",
    "    \n",
    "    Args:\n",
    "        ws: List of dendrite weights.\n",
    "        xs: List of objects represented as feature values.\n",
    "        f: Neuron activation function. Default is sign.\n",
    "    \n",
    "    Returns:\n",
    "        List of perceptron predictions for all objects.\n",
    "    \"\"\"\n",
    "    \n",
    "    res = []\n",
    "    for el in xs:\n",
    "        y = ws[-1]\n",
    "        for x, w in zip(ws, el):\n",
    "            y += x * w\n",
    "        res.append(f(y))\n",
    "    return res"
   ]
  },
  {
   "cell_type": "code",
   "execution_count": 5,
   "id": "687f4e5d",
   "metadata": {},
   "outputs": [],
   "source": [
    "def perceptron_train_solution(xs, ys, learning_rate=1, k=100):\n",
    "    \"\"\"\n",
    "    Trains a perceptron with sign activation function for classification of the given dataset.\n",
    "    \n",
    "    Args:\n",
    "        xs: List of training objects. Each object is represented as a list of feature values.\n",
    "            The data does not include an artificial feature with a constant value of 1.\n",
    "        ys: List of class labels corresponding to xs. Classes are either -1 or 1.\n",
    "        learning_rate: Learning rate constant used in weight update rule. Default is 1.\n",
    "        k: Maximum number of iterations to train the perceptron. Default is 100.\n",
    "    \n",
    "    Returns:\n",
    "        List of perceptron dendrite weights.\n",
    "    \"\"\"\n",
    "    \n",
    "    ws = [0] * (len(xs[0]) + 1)\n",
    "    while k > -1:\n",
    "        for i in range(len(xs)):\n",
    "            yp = perceptron_classify_solution(ws, xs, f=sign)\n",
    "            if yp[i] == ys[i]:\n",
    "                continue\n",
    "            else:\n",
    "                for j in range(len(ws) - 1):\n",
    "                    ws[j] += learning_rate * (ys[i] - yp[i]) * xs[i][j]\n",
    "                ws[-1] += learning_rate * (ys[i] - yp[i])\n",
    "        res = 0\n",
    "        yp = perceptron_classify_solution(ws, xs, f=sign)\n",
    "        for k in range(len(ys)):\n",
    "            res += ys[k] - yp[k]\n",
    "        if res == 0:\n",
    "            break\n",
    "        k -= 1\n",
    "    return [int(x) for x in ws]"
   ]
  },
  {
   "cell_type": "markdown",
   "id": "8e970799",
   "metadata": {},
   "source": [
    "# Многослойный перцептрон"
   ]
  },
  {
   "cell_type": "code",
   "execution_count": 6,
   "id": "e0831650",
   "metadata": {},
   "outputs": [],
   "source": [
    "def multilayer_perceptron_solution(wss, fs, x):\n",
    "    \"\"\"\n",
    "    Calculates prediction of a multi-layer perceptron for a specific object.\n",
    "    \n",
    "    Args:\n",
    "        wss: List of neuron weights for each layer.\n",
    "        fs: List of activation functions used in each layer.\n",
    "        x: Object for prediction.\n",
    "    \n",
    "    Returns:\n",
    "        Predicted value.\n",
    "    \"\"\"\n",
    "\n",
    "    x = [x]\n",
    "    for i in range(len(wss)):\n",
    "        f = fs[i]\n",
    "        xi = []\n",
    "        for j in range(len(wss[i])):\n",
    "            xi.append(perceptron_classify_solution(wss[i][j], x, f))\n",
    "        if len(xi) > 1:\n",
    "            all = []\n",
    "            for el in xi:\n",
    "                all.extend(el)\n",
    "            xi = [all]\n",
    "        x = xi\n",
    "    return xi[0][0]"
   ]
  }
 ],
 "metadata": {
  "kernelspec": {
   "display_name": "Python 3 (ipykernel)",
   "language": "python",
   "name": "python3"
  },
  "language_info": {
   "codemirror_mode": {
    "name": "ipython",
    "version": 3
   },
   "file_extension": ".py",
   "mimetype": "text/x-python",
   "name": "python",
   "nbconvert_exporter": "python",
   "pygments_lexer": "ipython3",
   "version": "3.10.13"
  }
 },
 "nbformat": 4,
 "nbformat_minor": 5
}
