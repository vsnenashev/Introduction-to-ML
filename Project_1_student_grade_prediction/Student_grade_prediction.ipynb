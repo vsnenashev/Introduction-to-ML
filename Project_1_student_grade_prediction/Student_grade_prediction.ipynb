{
 "cells": [
  {
   "cell_type": "code",
   "execution_count": 4,
   "id": "e6d5e0ca",
   "metadata": {},
   "outputs": [],
   "source": [
    "import pandas as pd\n",
    "import seaborn as sns"
   ]
  },
  {
   "cell_type": "code",
   "execution_count": 5,
   "id": "78732edb",
   "metadata": {},
   "outputs": [],
   "source": [
    "import numpy as np"
   ]
  },
  {
   "cell_type": "code",
   "execution_count": 6,
   "id": "a4182a3e",
   "metadata": {},
   "outputs": [],
   "source": [
    "sns.set(rc={'figure.figsize': (11.7, 8.27)})"
   ]
  },
  {
   "cell_type": "code",
   "execution_count": 7,
   "id": "df3a50c1",
   "metadata": {},
   "outputs": [],
   "source": [
    "from sklearn.model_selection import train_test_split"
   ]
  },
  {
   "cell_type": "code",
   "execution_count": 8,
   "id": "e04a5e10",
   "metadata": {},
   "outputs": [],
   "source": [
    "from sklearn.preprocessing import MinMaxScaler"
   ]
  },
  {
   "cell_type": "code",
   "execution_count": 9,
   "id": "052c2a9a",
   "metadata": {},
   "outputs": [],
   "source": [
    "from sklearn.linear_model import LinearRegression"
   ]
  },
  {
   "cell_type": "markdown",
   "id": "fc420e40",
   "metadata": {},
   "source": [
    "## Dividing the data into train and test samples"
   ]
  },
  {
   "cell_type": "code",
   "execution_count": 3,
   "id": "efc9145d",
   "metadata": {
    "collapsed": true,
    "jupyter": {
     "outputs_hidden": true
    }
   },
   "outputs": [
    {
     "ename": "NameError",
     "evalue": "name 'pd' is not defined",
     "output_type": "error",
     "traceback": [
      "\u001b[1;31m---------------------------------------------------------------------------\u001b[0m",
      "\u001b[1;31mNameError\u001b[0m                                 Traceback (most recent call last)",
      "Cell \u001b[1;32mIn[3], line 1\u001b[0m\n\u001b[1;32m----> 1\u001b[0m data \u001b[38;5;241m=\u001b[39m \u001b[43mpd\u001b[49m\u001b[38;5;241m.\u001b[39mread_csv(\u001b[38;5;124m'\u001b[39m\u001b[38;5;124mstudent-mat.csv\u001b[39m\u001b[38;5;124m'\u001b[39m)\n",
      "\u001b[1;31mNameError\u001b[0m: name 'pd' is not defined"
     ]
    }
   ],
   "source": [
    "data = pd.read_csv('student-mat.csv')"
   ]
  },
  {
   "cell_type": "code",
   "execution_count": 28,
   "id": "29104d41",
   "metadata": {},
   "outputs": [],
   "source": [
    "data = data[data['G3'] != 0]"
   ]
  },
  {
   "cell_type": "code",
   "execution_count": 2,
   "id": "de3f9853",
   "metadata": {
    "collapsed": true,
    "jupyter": {
     "outputs_hidden": true
    }
   },
   "outputs": [
    {
     "ename": "NameError",
     "evalue": "name 'data' is not defined",
     "output_type": "error",
     "traceback": [
      "\u001b[1;31m---------------------------------------------------------------------------\u001b[0m",
      "\u001b[1;31mNameError\u001b[0m                                 Traceback (most recent call last)",
      "Cell \u001b[1;32mIn[2], line 1\u001b[0m\n\u001b[1;32m----> 1\u001b[0m X \u001b[38;5;241m=\u001b[39m \u001b[43mdata\u001b[49m\u001b[38;5;241m.\u001b[39mdrop(columns\u001b[38;5;241m=\u001b[39m[\u001b[38;5;124m'\u001b[39m\u001b[38;5;124mG3\u001b[39m\u001b[38;5;124m'\u001b[39m])\n\u001b[0;32m      2\u001b[0m y \u001b[38;5;241m=\u001b[39m data[\u001b[38;5;124m'\u001b[39m\u001b[38;5;124mG3\u001b[39m\u001b[38;5;124m'\u001b[39m]\n",
      "\u001b[1;31mNameError\u001b[0m: name 'data' is not defined"
     ]
    }
   ],
   "source": [
    "X = data.drop(columns=['G3'])\n",
    "y = data['G3']"
   ]
  },
  {
   "cell_type": "code",
   "execution_count": 1,
   "id": "f58047bc-df32-46d6-8744-0b31feb87b0b",
   "metadata": {
    "collapsed": true,
    "jupyter": {
     "outputs_hidden": true
    }
   },
   "outputs": [
    {
     "ename": "NameError",
     "evalue": "name 'X' is not defined",
     "output_type": "error",
     "traceback": [
      "\u001b[1;31m---------------------------------------------------------------------------\u001b[0m",
      "\u001b[1;31mNameError\u001b[0m                                 Traceback (most recent call last)",
      "Cell \u001b[1;32mIn[1], line 1\u001b[0m\n\u001b[1;32m----> 1\u001b[0m \u001b[43mX\u001b[49m\n",
      "\u001b[1;31mNameError\u001b[0m: name 'X' is not defined"
     ]
    }
   ],
   "source": [
    "X"
   ]
  },
  {
   "cell_type": "code",
   "execution_count": 75,
   "id": "0fe8b86f",
   "metadata": {},
   "outputs": [],
   "source": [
    "X_train, X_test, y_train, y_test = train_test_split(X, y, test_size=50, random_state=0)"
   ]
  },
  {
   "cell_type": "code",
   "execution_count": 76,
   "id": "32aece18",
   "metadata": {},
   "outputs": [
    {
     "data": {
      "text/plain": [
       "307"
      ]
     },
     "execution_count": 76,
     "metadata": {},
     "output_type": "execute_result"
    }
   ],
   "source": [
    "len(X_train)"
   ]
  },
  {
   "cell_type": "code",
   "execution_count": 77,
   "id": "51a6b8ff",
   "metadata": {},
   "outputs": [
    {
     "data": {
      "text/plain": [
       "50"
      ]
     },
     "execution_count": 77,
     "metadata": {},
     "output_type": "execute_result"
    }
   ],
   "source": [
    "len(X_test)"
   ]
  },
  {
   "cell_type": "markdown",
   "id": "77528d92",
   "metadata": {},
   "source": [
    "## Exploratory data analysis "
   ]
  },
  {
   "cell_type": "code",
   "execution_count": 78,
   "id": "00f4b922",
   "metadata": {},
   "outputs": [],
   "source": [
    "X_y_train = X_train.copy(deep=True)"
   ]
  },
  {
   "cell_type": "code",
   "execution_count": 79,
   "id": "66a7b351",
   "metadata": {},
   "outputs": [],
   "source": [
    "X_y_train['y'] = y_train"
   ]
  },
  {
   "cell_type": "code",
   "execution_count": 80,
   "id": "29c318a9",
   "metadata": {},
   "outputs": [
    {
     "data": {
      "text/html": [
       "<div>\n",
       "<style scoped>\n",
       "    .dataframe tbody tr th:only-of-type {\n",
       "        vertical-align: middle;\n",
       "    }\n",
       "\n",
       "    .dataframe tbody tr th {\n",
       "        vertical-align: top;\n",
       "    }\n",
       "\n",
       "    .dataframe thead th {\n",
       "        text-align: right;\n",
       "    }\n",
       "</style>\n",
       "<table border=\"1\" class=\"dataframe\">\n",
       "  <thead>\n",
       "    <tr style=\"text-align: right;\">\n",
       "      <th></th>\n",
       "      <th>age</th>\n",
       "      <th>Medu</th>\n",
       "      <th>Fedu</th>\n",
       "      <th>traveltime</th>\n",
       "      <th>studytime</th>\n",
       "      <th>failures</th>\n",
       "      <th>famrel</th>\n",
       "      <th>freetime</th>\n",
       "      <th>goout</th>\n",
       "      <th>health</th>\n",
       "      <th>absences</th>\n",
       "      <th>G1</th>\n",
       "      <th>y</th>\n",
       "    </tr>\n",
       "  </thead>\n",
       "  <tbody>\n",
       "    <tr>\n",
       "      <th>age</th>\n",
       "      <td>1.000000</td>\n",
       "      <td>-0.143667</td>\n",
       "      <td>-0.152028</td>\n",
       "      <td>0.124947</td>\n",
       "      <td>-0.012044</td>\n",
       "      <td>0.265867</td>\n",
       "      <td>0.105719</td>\n",
       "      <td>0.018381</td>\n",
       "      <td>0.127471</td>\n",
       "      <td>-0.066960</td>\n",
       "      <td>0.232719</td>\n",
       "      <td>-0.058061</td>\n",
       "      <td>-0.163554</td>\n",
       "    </tr>\n",
       "    <tr>\n",
       "      <th>Medu</th>\n",
       "      <td>-0.143667</td>\n",
       "      <td>1.000000</td>\n",
       "      <td>0.622469</td>\n",
       "      <td>-0.189125</td>\n",
       "      <td>0.059405</td>\n",
       "      <td>-0.217911</td>\n",
       "      <td>-0.005481</td>\n",
       "      <td>-0.021037</td>\n",
       "      <td>0.080858</td>\n",
       "      <td>-0.030022</td>\n",
       "      <td>0.052977</td>\n",
       "      <td>0.180870</td>\n",
       "      <td>0.205427</td>\n",
       "    </tr>\n",
       "    <tr>\n",
       "      <th>Fedu</th>\n",
       "      <td>-0.152028</td>\n",
       "      <td>0.622469</td>\n",
       "      <td>1.000000</td>\n",
       "      <td>-0.194381</td>\n",
       "      <td>-0.031392</td>\n",
       "      <td>-0.265805</td>\n",
       "      <td>-0.031753</td>\n",
       "      <td>-0.054498</td>\n",
       "      <td>0.029325</td>\n",
       "      <td>-0.007715</td>\n",
       "      <td>-0.015996</td>\n",
       "      <td>0.160996</td>\n",
       "      <td>0.150231</td>\n",
       "    </tr>\n",
       "    <tr>\n",
       "      <th>traveltime</th>\n",
       "      <td>0.124947</td>\n",
       "      <td>-0.189125</td>\n",
       "      <td>-0.194381</td>\n",
       "      <td>1.000000</td>\n",
       "      <td>-0.105084</td>\n",
       "      <td>0.131414</td>\n",
       "      <td>-0.002823</td>\n",
       "      <td>-0.007708</td>\n",
       "      <td>0.062239</td>\n",
       "      <td>0.016959</td>\n",
       "      <td>0.028547</td>\n",
       "      <td>-0.119743</td>\n",
       "      <td>-0.131757</td>\n",
       "    </tr>\n",
       "    <tr>\n",
       "      <th>studytime</th>\n",
       "      <td>-0.012044</td>\n",
       "      <td>0.059405</td>\n",
       "      <td>-0.031392</td>\n",
       "      <td>-0.105084</td>\n",
       "      <td>1.000000</td>\n",
       "      <td>-0.136720</td>\n",
       "      <td>0.063829</td>\n",
       "      <td>-0.132218</td>\n",
       "      <td>-0.018720</td>\n",
       "      <td>-0.087165</td>\n",
       "      <td>-0.098216</td>\n",
       "      <td>0.156326</td>\n",
       "      <td>0.158553</td>\n",
       "    </tr>\n",
       "    <tr>\n",
       "      <th>failures</th>\n",
       "      <td>0.265867</td>\n",
       "      <td>-0.217911</td>\n",
       "      <td>-0.265805</td>\n",
       "      <td>0.131414</td>\n",
       "      <td>-0.136720</td>\n",
       "      <td>1.000000</td>\n",
       "      <td>-0.020901</td>\n",
       "      <td>0.133293</td>\n",
       "      <td>0.195804</td>\n",
       "      <td>0.042964</td>\n",
       "      <td>0.161519</td>\n",
       "      <td>-0.326272</td>\n",
       "      <td>-0.311091</td>\n",
       "    </tr>\n",
       "    <tr>\n",
       "      <th>famrel</th>\n",
       "      <td>0.105719</td>\n",
       "      <td>-0.005481</td>\n",
       "      <td>-0.031753</td>\n",
       "      <td>-0.002823</td>\n",
       "      <td>0.063829</td>\n",
       "      <td>-0.020901</td>\n",
       "      <td>1.000000</td>\n",
       "      <td>0.183048</td>\n",
       "      <td>0.068130</td>\n",
       "      <td>0.140506</td>\n",
       "      <td>-0.073748</td>\n",
       "      <td>0.052678</td>\n",
       "      <td>0.075401</td>\n",
       "    </tr>\n",
       "    <tr>\n",
       "      <th>freetime</th>\n",
       "      <td>0.018381</td>\n",
       "      <td>-0.021037</td>\n",
       "      <td>-0.054498</td>\n",
       "      <td>-0.007708</td>\n",
       "      <td>-0.132218</td>\n",
       "      <td>0.133293</td>\n",
       "      <td>0.183048</td>\n",
       "      <td>1.000000</td>\n",
       "      <td>0.255339</td>\n",
       "      <td>0.086641</td>\n",
       "      <td>-0.074686</td>\n",
       "      <td>-0.023542</td>\n",
       "      <td>-0.051553</td>\n",
       "    </tr>\n",
       "    <tr>\n",
       "      <th>goout</th>\n",
       "      <td>0.127471</td>\n",
       "      <td>0.080858</td>\n",
       "      <td>0.029325</td>\n",
       "      <td>0.062239</td>\n",
       "      <td>-0.018720</td>\n",
       "      <td>0.195804</td>\n",
       "      <td>0.068130</td>\n",
       "      <td>0.255339</td>\n",
       "      <td>1.000000</td>\n",
       "      <td>-0.061314</td>\n",
       "      <td>0.057467</td>\n",
       "      <td>-0.170340</td>\n",
       "      <td>-0.196119</td>\n",
       "    </tr>\n",
       "    <tr>\n",
       "      <th>health</th>\n",
       "      <td>-0.066960</td>\n",
       "      <td>-0.030022</td>\n",
       "      <td>-0.007715</td>\n",
       "      <td>0.016959</td>\n",
       "      <td>-0.087165</td>\n",
       "      <td>0.042964</td>\n",
       "      <td>0.140506</td>\n",
       "      <td>0.086641</td>\n",
       "      <td>-0.061314</td>\n",
       "      <td>1.000000</td>\n",
       "      <td>-0.057903</td>\n",
       "      <td>-0.074392</td>\n",
       "      <td>-0.071237</td>\n",
       "    </tr>\n",
       "    <tr>\n",
       "      <th>absences</th>\n",
       "      <td>0.232719</td>\n",
       "      <td>0.052977</td>\n",
       "      <td>-0.015996</td>\n",
       "      <td>0.028547</td>\n",
       "      <td>-0.098216</td>\n",
       "      <td>0.161519</td>\n",
       "      <td>-0.073748</td>\n",
       "      <td>-0.074686</td>\n",
       "      <td>0.057467</td>\n",
       "      <td>-0.057903</td>\n",
       "      <td>1.000000</td>\n",
       "      <td>-0.141382</td>\n",
       "      <td>-0.229859</td>\n",
       "    </tr>\n",
       "    <tr>\n",
       "      <th>G1</th>\n",
       "      <td>-0.058061</td>\n",
       "      <td>0.180870</td>\n",
       "      <td>0.160996</td>\n",
       "      <td>-0.119743</td>\n",
       "      <td>0.156326</td>\n",
       "      <td>-0.326272</td>\n",
       "      <td>0.052678</td>\n",
       "      <td>-0.023542</td>\n",
       "      <td>-0.170340</td>\n",
       "      <td>-0.074392</td>\n",
       "      <td>-0.141382</td>\n",
       "      <td>1.000000</td>\n",
       "      <td>0.896589</td>\n",
       "    </tr>\n",
       "    <tr>\n",
       "      <th>y</th>\n",
       "      <td>-0.163554</td>\n",
       "      <td>0.205427</td>\n",
       "      <td>0.150231</td>\n",
       "      <td>-0.131757</td>\n",
       "      <td>0.158553</td>\n",
       "      <td>-0.311091</td>\n",
       "      <td>0.075401</td>\n",
       "      <td>-0.051553</td>\n",
       "      <td>-0.196119</td>\n",
       "      <td>-0.071237</td>\n",
       "      <td>-0.229859</td>\n",
       "      <td>0.896589</td>\n",
       "      <td>1.000000</td>\n",
       "    </tr>\n",
       "  </tbody>\n",
       "</table>\n",
       "</div>"
      ],
      "text/plain": [
       "                 age      Medu      Fedu  traveltime  studytime  failures  \\\n",
       "age         1.000000 -0.143667 -0.152028    0.124947  -0.012044  0.265867   \n",
       "Medu       -0.143667  1.000000  0.622469   -0.189125   0.059405 -0.217911   \n",
       "Fedu       -0.152028  0.622469  1.000000   -0.194381  -0.031392 -0.265805   \n",
       "traveltime  0.124947 -0.189125 -0.194381    1.000000  -0.105084  0.131414   \n",
       "studytime  -0.012044  0.059405 -0.031392   -0.105084   1.000000 -0.136720   \n",
       "failures    0.265867 -0.217911 -0.265805    0.131414  -0.136720  1.000000   \n",
       "famrel      0.105719 -0.005481 -0.031753   -0.002823   0.063829 -0.020901   \n",
       "freetime    0.018381 -0.021037 -0.054498   -0.007708  -0.132218  0.133293   \n",
       "goout       0.127471  0.080858  0.029325    0.062239  -0.018720  0.195804   \n",
       "health     -0.066960 -0.030022 -0.007715    0.016959  -0.087165  0.042964   \n",
       "absences    0.232719  0.052977 -0.015996    0.028547  -0.098216  0.161519   \n",
       "G1         -0.058061  0.180870  0.160996   -0.119743   0.156326 -0.326272   \n",
       "y          -0.163554  0.205427  0.150231   -0.131757   0.158553 -0.311091   \n",
       "\n",
       "              famrel  freetime     goout    health  absences        G1  \\\n",
       "age         0.105719  0.018381  0.127471 -0.066960  0.232719 -0.058061   \n",
       "Medu       -0.005481 -0.021037  0.080858 -0.030022  0.052977  0.180870   \n",
       "Fedu       -0.031753 -0.054498  0.029325 -0.007715 -0.015996  0.160996   \n",
       "traveltime -0.002823 -0.007708  0.062239  0.016959  0.028547 -0.119743   \n",
       "studytime   0.063829 -0.132218 -0.018720 -0.087165 -0.098216  0.156326   \n",
       "failures   -0.020901  0.133293  0.195804  0.042964  0.161519 -0.326272   \n",
       "famrel      1.000000  0.183048  0.068130  0.140506 -0.073748  0.052678   \n",
       "freetime    0.183048  1.000000  0.255339  0.086641 -0.074686 -0.023542   \n",
       "goout       0.068130  0.255339  1.000000 -0.061314  0.057467 -0.170340   \n",
       "health      0.140506  0.086641 -0.061314  1.000000 -0.057903 -0.074392   \n",
       "absences   -0.073748 -0.074686  0.057467 -0.057903  1.000000 -0.141382   \n",
       "G1          0.052678 -0.023542 -0.170340 -0.074392 -0.141382  1.000000   \n",
       "y           0.075401 -0.051553 -0.196119 -0.071237 -0.229859  0.896589   \n",
       "\n",
       "                   y  \n",
       "age        -0.163554  \n",
       "Medu        0.205427  \n",
       "Fedu        0.150231  \n",
       "traveltime -0.131757  \n",
       "studytime   0.158553  \n",
       "failures   -0.311091  \n",
       "famrel      0.075401  \n",
       "freetime   -0.051553  \n",
       "goout      -0.196119  \n",
       "health     -0.071237  \n",
       "absences   -0.229859  \n",
       "G1          0.896589  \n",
       "y           1.000000  "
      ]
     },
     "execution_count": 80,
     "metadata": {},
     "output_type": "execute_result"
    }
   ],
   "source": [
    "X_y_train.corr()"
   ]
  },
  {
   "cell_type": "code",
   "execution_count": 81,
   "id": "d513d776",
   "metadata": {},
   "outputs": [],
   "source": [
    "corr = X_y_train.corr()['y']"
   ]
  },
  {
   "cell_type": "code",
   "execution_count": 82,
   "id": "c310c47b",
   "metadata": {},
   "outputs": [],
   "source": [
    "corr = corr[(corr >= 0.1) | (corr <= -0.1)]"
   ]
  },
  {
   "cell_type": "code",
   "execution_count": 83,
   "id": "ddb50e9b",
   "metadata": {},
   "outputs": [
    {
     "data": {
      "text/plain": [
       "age          -0.163554\n",
       "Medu          0.205427\n",
       "Fedu          0.150231\n",
       "traveltime   -0.131757\n",
       "studytime     0.158553\n",
       "failures     -0.311091\n",
       "goout        -0.196119\n",
       "absences     -0.229859\n",
       "G1            0.896589\n",
       "y             1.000000\n",
       "Name: y, dtype: float64"
      ]
     },
     "execution_count": 83,
     "metadata": {},
     "output_type": "execute_result"
    }
   ],
   "source": [
    "corr"
   ]
  },
  {
   "cell_type": "code",
   "execution_count": 84,
   "id": "2fe0ece2",
   "metadata": {},
   "outputs": [
    {
     "data": {
      "text/plain": [
       "<AxesSubplot: xlabel='G1', ylabel='y'>"
      ]
     },
     "execution_count": 84,
     "metadata": {},
     "output_type": "execute_result"
    },
    {
     "data": {
      "image/png": "[encoded data removed]",
      "text/plain": [
       "<Figure size 1170x827 with 1 Axes>"
      ]
     },
     "metadata": {},
     "output_type": "display_data"
    }
   ],
   "source": [
    "sns.scatterplot(x=X_y_train['G1'], y=X_y_train['y'])"
   ]
  },
  {
   "cell_type": "code",
   "execution_count": 85,
   "id": "4f5f58a5",
   "metadata": {},
   "outputs": [
    {
     "data": {
      "text/plain": [
       "<AxesSubplot: xlabel='age', ylabel='y'>"
      ]
     },
     "execution_count": 85,
     "metadata": {},
     "output_type": "execute_result"
    },
    {
     "data": {
      "image/png": "[encoded data removed]",
      "text/plain": [
       "<Figure size 1170x827 with 1 Axes>"
      ]
     },
     "metadata": {},
     "output_type": "display_data"
    }
   ],
   "source": [
    "sns.swarmplot(x=X_y_train['age'], y=X_y_train['y'])"
   ]
  },
  {
   "cell_type": "code",
   "execution_count": 86,
   "id": "1ce6354c",
   "metadata": {},
   "outputs": [],
   "source": [
    "numeric_factors_to_use = ['age', 'traveltime', 'G1', 'studytime', 'Medu', 'Fedu', 'failures']"
   ]
  },
  {
   "cell_type": "code",
   "execution_count": 87,
   "id": "69cee668",
   "metadata": {},
   "outputs": [],
   "source": [
    "categorical_columns = ['school', 'gender', 'address', 'famsize', 'Pstatus', 'Mjob', 'Fjob',\n",
    "                       'reason', 'guardian', 'schoolsup', 'famsup', 'paid', 'activities', 'nursery',\n",
    "                       'higher', 'internet', 'romantic']"
   ]
  },
  {
   "cell_type": "code",
   "execution_count": 88,
   "id": "b3cdabc9",
   "metadata": {},
   "outputs": [
    {
     "data": {
      "text/html": [
       "<div>\n",
       "<style scoped>\n",
       "    .dataframe tbody tr th:only-of-type {\n",
       "        vertical-align: middle;\n",
       "    }\n",
       "\n",
       "    .dataframe tbody tr th {\n",
       "        vertical-align: top;\n",
       "    }\n",
       "\n",
       "    .dataframe thead th {\n",
       "        text-align: right;\n",
       "    }\n",
       "</style>\n",
       "<table border=\"1\" class=\"dataframe\">\n",
       "  <thead>\n",
       "    <tr style=\"text-align: right;\">\n",
       "      <th></th>\n",
       "      <th>higher</th>\n",
       "      <th>y</th>\n",
       "    </tr>\n",
       "  </thead>\n",
       "  <tbody>\n",
       "    <tr>\n",
       "      <th>0</th>\n",
       "      <td>no</td>\n",
       "      <td>9.833333</td>\n",
       "    </tr>\n",
       "    <tr>\n",
       "      <th>1</th>\n",
       "      <td>yes</td>\n",
       "      <td>11.657627</td>\n",
       "    </tr>\n",
       "  </tbody>\n",
       "</table>\n",
       "</div>"
      ],
      "text/plain": [
       "  higher          y\n",
       "0     no   9.833333\n",
       "1    yes  11.657627"
      ]
     },
     "execution_count": 88,
     "metadata": {},
     "output_type": "execute_result"
    }
   ],
   "source": [
    "X_y_train \\\n",
    "    .groupby('higher', as_index=False) \\\n",
    "    .agg({'y': 'mean'})"
   ]
  },
  {
   "cell_type": "code",
   "execution_count": 89,
   "id": "04f3d69f",
   "metadata": {},
   "outputs": [],
   "source": [
    "interesting_categorical_factors = ['Mjob', 'Fjob', 'schoolsup', 'higher']"
   ]
  },
  {
   "cell_type": "markdown",
   "id": "7df53280",
   "metadata": {},
   "source": [
    "## Factors preparation"
   ]
  },
  {
   "cell_type": "code",
   "execution_count": 90,
   "id": "ee8ca36c",
   "metadata": {},
   "outputs": [],
   "source": [
    "from category_encoders.target_encoder import TargetEncoder"
   ]
  },
  {
   "cell_type": "code",
   "execution_count": 91,
   "id": "f9e3cc87",
   "metadata": {
    "collapsed": true,
    "jupyter": {
     "outputs_hidden": true
    }
   },
   "outputs": [
    {
     "data": {
      "text/html": [
       "<style>#sk-container-id-3 {color: black;background-color: white;}#sk-container-id-3 pre{padding: 0;}#sk-container-id-3 div.sk-toggleable {background-color: white;}#sk-container-id-3 label.sk-toggleable__label {cursor: pointer;display: block;width: 100%;margin-bottom: 0;padding: 0.3em;box-sizing: border-box;text-align: center;}#sk-container-id-3 label.sk-toggleable__label-arrow:before {content: \"▸\";float: left;margin-right: 0.25em;color: #696969;}#sk-container-id-3 label.sk-toggleable__label-arrow:hover:before {color: black;}#sk-container-id-3 div.sk-estimator:hover label.sk-toggleable__label-arrow:before {color: black;}#sk-container-id-3 div.sk-toggleable__content {max-height: 0;max-width: 0;overflow: hidden;text-align: left;background-color: #f0f8ff;}#sk-container-id-3 div.sk-toggleable__content pre {margin: 0.2em;color: black;border-radius: 0.25em;background-color: #f0f8ff;}#sk-container-id-3 input.sk-toggleable__control:checked~div.sk-toggleable__content {max-height: 200px;max-width: 100%;overflow: auto;}#sk-container-id-3 input.sk-toggleable__control:checked~label.sk-toggleable__label-arrow:before {content: \"▾\";}#sk-container-id-3 div.sk-estimator input.sk-toggleable__control:checked~label.sk-toggleable__label {background-color: #d4ebff;}#sk-container-id-3 div.sk-label input.sk-toggleable__control:checked~label.sk-toggleable__label {background-color: #d4ebff;}#sk-container-id-3 input.sk-hidden--visually {border: 0;clip: rect(1px 1px 1px 1px);clip: rect(1px, 1px, 1px, 1px);height: 1px;margin: -1px;overflow: hidden;padding: 0;position: absolute;width: 1px;}#sk-container-id-3 div.sk-estimator {font-family: monospace;background-color: #f0f8ff;border: 1px dotted black;border-radius: 0.25em;box-sizing: border-box;margin-bottom: 0.5em;}#sk-container-id-3 div.sk-estimator:hover {background-color: #d4ebff;}#sk-container-id-3 div.sk-parallel-item::after {content: \"\";width: 100%;border-bottom: 1px solid gray;flex-grow: 1;}#sk-container-id-3 div.sk-label:hover label.sk-toggleable__label {background-color: #d4ebff;}#sk-container-id-3 div.sk-serial::before {content: \"\";position: absolute;border-left: 1px solid gray;box-sizing: border-box;top: 0;bottom: 0;left: 50%;z-index: 0;}#sk-container-id-3 div.sk-serial {display: flex;flex-direction: column;align-items: center;background-color: white;padding-right: 0.2em;padding-left: 0.2em;position: relative;}#sk-container-id-3 div.sk-item {position: relative;z-index: 1;}#sk-container-id-3 div.sk-parallel {display: flex;align-items: stretch;justify-content: center;background-color: white;position: relative;}#sk-container-id-3 div.sk-item::before, #sk-container-id-3 div.sk-parallel-item::before {content: \"\";position: absolute;border-left: 1px solid gray;box-sizing: border-box;top: 0;bottom: 0;left: 50%;z-index: -1;}#sk-container-id-3 div.sk-parallel-item {display: flex;flex-direction: column;z-index: 1;position: relative;background-color: white;}#sk-container-id-3 div.sk-parallel-item:first-child::after {align-self: flex-end;width: 50%;}#sk-container-id-3 div.sk-parallel-item:last-child::after {align-self: flex-start;width: 50%;}#sk-container-id-3 div.sk-parallel-item:only-child::after {width: 0;}#sk-container-id-3 div.sk-dashed-wrapped {border: 1px dashed gray;margin: 0 0.4em 0.5em 0.4em;box-sizing: border-box;padding-bottom: 0.4em;background-color: white;}#sk-container-id-3 div.sk-label label {font-family: monospace;font-weight: bold;display: inline-block;line-height: 1.2em;}#sk-container-id-3 div.sk-label-container {text-align: center;}#sk-container-id-3 div.sk-container {/* jupyter's `normalize.less` sets `[hidden] { display: none; }` but bootstrap.min.css set `[hidden] { display: none !important; }` so we also need the `!important` here to be able to override the default hidden behavior on the sphinx rendered scikit-learn.org. See: https://github.com/scikit-learn/scikit-learn/issues/21755 */display: inline-block !important;position: relative;}#sk-container-id-3 div.sk-text-repr-fallback {display: none;}</style><div id=\"sk-container-id-3\" class=\"sk-top-container\"><div class=\"sk-text-repr-fallback\"><pre>TargetEncoder(cols=[&#x27;higher&#x27;])</pre><b>In a Jupyter environment, please rerun this cell to show the HTML representation or trust the notebook. <br />On GitHub, the HTML representation is unable to render, please try loading this page with nbviewer.org.</b></div><div class=\"sk-container\" hidden><div class=\"sk-item\"><div class=\"sk-estimator sk-toggleable\"><input class=\"sk-toggleable__control sk-hidden--visually\" id=\"sk-estimator-id-3\" type=\"checkbox\" checked><label for=\"sk-estimator-id-3\" class=\"sk-toggleable__label sk-toggleable__label-arrow\">TargetEncoder</label><div class=\"sk-toggleable__content\"><pre>TargetEncoder(cols=[&#x27;higher&#x27;])</pre></div></div></div></div></div>"
      ],
      "text/plain": [
       "TargetEncoder(cols=['higher'])"
      ]
     },
     "execution_count": 91,
     "metadata": {},
     "output_type": "execute_result"
    }
   ],
   "source": [
    "mjob_target_encoder = TargetEncoder()\n",
    "mjob_target_encoder.fit(X_y_train['Mjob'], X_y_train['y'])\n",
    "\n",
    "fjob_target_encoder = TargetEncoder()\n",
    "fjob_target_encoder.fit(X_y_train['Fjob'], X_y_train['y'])\n",
    "\n",
    "schoolsup_target_encoder = TargetEncoder()\n",
    "schoolsup_target_encoder.fit(X_y_train['schoolsup'], X_y_train['y'])\n",
    "\n",
    "higher_target_encoder = TargetEncoder()\n",
    "higher_target_encoder.fit(X_y_train['higher'], X_y_train['y'])"
   ]
  },
  {
   "cell_type": "code",
   "execution_count": 92,
   "id": "fd838045",
   "metadata": {},
   "outputs": [],
   "source": [
    "X_y_train['Mjob_encoded'] = mjob_target_encoder.transform(X_y_train['Mjob'])\n",
    "X_y_train['Fjob_encoded'] = fjob_target_encoder.transform(X_y_train['Fjob'])\n",
    "X_y_train['schoolsup_encoded'] = schoolsup_target_encoder.transform(X_y_train['schoolsup'])\n",
    "X_y_train['higher_encoded'] = higher_target_encoder.transform(X_y_train['higher'])"
   ]
  },
  {
   "cell_type": "code",
   "execution_count": 93,
   "id": "3131b540",
   "metadata": {},
   "outputs": [
    {
     "data": {
      "text/html": [
       "<div>\n",
       "<style scoped>\n",
       "    .dataframe tbody tr th:only-of-type {\n",
       "        vertical-align: middle;\n",
       "    }\n",
       "\n",
       "    .dataframe tbody tr th {\n",
       "        vertical-align: top;\n",
       "    }\n",
       "\n",
       "    .dataframe thead th {\n",
       "        text-align: right;\n",
       "    }\n",
       "</style>\n",
       "<table border=\"1\" class=\"dataframe\">\n",
       "  <thead>\n",
       "    <tr style=\"text-align: right;\">\n",
       "      <th></th>\n",
       "      <th>school</th>\n",
       "      <th>gender</th>\n",
       "      <th>age</th>\n",
       "      <th>address</th>\n",
       "      <th>famsize</th>\n",
       "      <th>Pstatus</th>\n",
       "      <th>Medu</th>\n",
       "      <th>Fedu</th>\n",
       "      <th>Mjob</th>\n",
       "      <th>Fjob</th>\n",
       "      <th>...</th>\n",
       "      <th>freetime</th>\n",
       "      <th>goout</th>\n",
       "      <th>health</th>\n",
       "      <th>absences</th>\n",
       "      <th>G1</th>\n",
       "      <th>y</th>\n",
       "      <th>Mjob_encoded</th>\n",
       "      <th>Fjob_encoded</th>\n",
       "      <th>schoolsup_encoded</th>\n",
       "      <th>higher_encoded</th>\n",
       "    </tr>\n",
       "  </thead>\n",
       "  <tbody>\n",
       "    <tr>\n",
       "      <th>295</th>\n",
       "      <td>GP</td>\n",
       "      <td>M</td>\n",
       "      <td>17</td>\n",
       "      <td>U</td>\n",
       "      <td>GT3</td>\n",
       "      <td>T</td>\n",
       "      <td>3</td>\n",
       "      <td>3</td>\n",
       "      <td>health</td>\n",
       "      <td>other</td>\n",
       "      <td>...</td>\n",
       "      <td>4</td>\n",
       "      <td>3</td>\n",
       "      <td>5</td>\n",
       "      <td>4</td>\n",
       "      <td>14</td>\n",
       "      <td>11</td>\n",
       "      <td>13.583333</td>\n",
       "      <td>11.339181</td>\n",
       "      <td>11.835821</td>\n",
       "      <td>11.657627</td>\n",
       "    </tr>\n",
       "    <tr>\n",
       "      <th>224</th>\n",
       "      <td>GP</td>\n",
       "      <td>F</td>\n",
       "      <td>16</td>\n",
       "      <td>U</td>\n",
       "      <td>GT3</td>\n",
       "      <td>T</td>\n",
       "      <td>4</td>\n",
       "      <td>4</td>\n",
       "      <td>teacher</td>\n",
       "      <td>services</td>\n",
       "      <td>...</td>\n",
       "      <td>3</td>\n",
       "      <td>2</td>\n",
       "      <td>5</td>\n",
       "      <td>0</td>\n",
       "      <td>13</td>\n",
       "      <td>14</td>\n",
       "      <td>11.744681</td>\n",
       "      <td>11.476190</td>\n",
       "      <td>11.835821</td>\n",
       "      <td>11.657627</td>\n",
       "    </tr>\n",
       "    <tr>\n",
       "      <th>197</th>\n",
       "      <td>GP</td>\n",
       "      <td>M</td>\n",
       "      <td>16</td>\n",
       "      <td>R</td>\n",
       "      <td>LE3</td>\n",
       "      <td>T</td>\n",
       "      <td>3</td>\n",
       "      <td>3</td>\n",
       "      <td>teacher</td>\n",
       "      <td>other</td>\n",
       "      <td>...</td>\n",
       "      <td>3</td>\n",
       "      <td>4</td>\n",
       "      <td>3</td>\n",
       "      <td>8</td>\n",
       "      <td>9</td>\n",
       "      <td>10</td>\n",
       "      <td>11.744681</td>\n",
       "      <td>11.339181</td>\n",
       "      <td>11.835821</td>\n",
       "      <td>11.657627</td>\n",
       "    </tr>\n",
       "    <tr>\n",
       "      <th>231</th>\n",
       "      <td>GP</td>\n",
       "      <td>M</td>\n",
       "      <td>17</td>\n",
       "      <td>R</td>\n",
       "      <td>GT3</td>\n",
       "      <td>T</td>\n",
       "      <td>2</td>\n",
       "      <td>2</td>\n",
       "      <td>other</td>\n",
       "      <td>other</td>\n",
       "      <td>...</td>\n",
       "      <td>5</td>\n",
       "      <td>2</td>\n",
       "      <td>1</td>\n",
       "      <td>4</td>\n",
       "      <td>11</td>\n",
       "      <td>11</td>\n",
       "      <td>10.962963</td>\n",
       "      <td>11.339181</td>\n",
       "      <td>11.835821</td>\n",
       "      <td>11.657627</td>\n",
       "    </tr>\n",
       "    <tr>\n",
       "      <th>7</th>\n",
       "      <td>GP</td>\n",
       "      <td>F</td>\n",
       "      <td>17</td>\n",
       "      <td>U</td>\n",
       "      <td>GT3</td>\n",
       "      <td>A</td>\n",
       "      <td>4</td>\n",
       "      <td>4</td>\n",
       "      <td>other</td>\n",
       "      <td>teacher</td>\n",
       "      <td>...</td>\n",
       "      <td>1</td>\n",
       "      <td>4</td>\n",
       "      <td>1</td>\n",
       "      <td>6</td>\n",
       "      <td>6</td>\n",
       "      <td>6</td>\n",
       "      <td>10.962963</td>\n",
       "      <td>13.565217</td>\n",
       "      <td>9.871795</td>\n",
       "      <td>11.657627</td>\n",
       "    </tr>\n",
       "    <tr>\n",
       "      <th>...</th>\n",
       "      <td>...</td>\n",
       "      <td>...</td>\n",
       "      <td>...</td>\n",
       "      <td>...</td>\n",
       "      <td>...</td>\n",
       "      <td>...</td>\n",
       "      <td>...</td>\n",
       "      <td>...</td>\n",
       "      <td>...</td>\n",
       "      <td>...</td>\n",
       "      <td>...</td>\n",
       "      <td>...</td>\n",
       "      <td>...</td>\n",
       "      <td>...</td>\n",
       "      <td>...</td>\n",
       "      <td>...</td>\n",
       "      <td>...</td>\n",
       "      <td>...</td>\n",
       "      <td>...</td>\n",
       "      <td>...</td>\n",
       "      <td>...</td>\n",
       "    </tr>\n",
       "    <tr>\n",
       "      <th>357</th>\n",
       "      <td>MS</td>\n",
       "      <td>F</td>\n",
       "      <td>17</td>\n",
       "      <td>U</td>\n",
       "      <td>LE3</td>\n",
       "      <td>A</td>\n",
       "      <td>3</td>\n",
       "      <td>2</td>\n",
       "      <td>services</td>\n",
       "      <td>other</td>\n",
       "      <td>...</td>\n",
       "      <td>2</td>\n",
       "      <td>3</td>\n",
       "      <td>5</td>\n",
       "      <td>2</td>\n",
       "      <td>12</td>\n",
       "      <td>11</td>\n",
       "      <td>12.253012</td>\n",
       "      <td>11.339181</td>\n",
       "      <td>11.835821</td>\n",
       "      <td>11.657627</td>\n",
       "    </tr>\n",
       "    <tr>\n",
       "      <th>210</th>\n",
       "      <td>GP</td>\n",
       "      <td>F</td>\n",
       "      <td>19</td>\n",
       "      <td>U</td>\n",
       "      <td>GT3</td>\n",
       "      <td>T</td>\n",
       "      <td>3</td>\n",
       "      <td>3</td>\n",
       "      <td>other</td>\n",
       "      <td>other</td>\n",
       "      <td>...</td>\n",
       "      <td>3</td>\n",
       "      <td>3</td>\n",
       "      <td>3</td>\n",
       "      <td>10</td>\n",
       "      <td>8</td>\n",
       "      <td>8</td>\n",
       "      <td>10.962963</td>\n",
       "      <td>11.339181</td>\n",
       "      <td>11.835821</td>\n",
       "      <td>11.657627</td>\n",
       "    </tr>\n",
       "    <tr>\n",
       "      <th>117</th>\n",
       "      <td>GP</td>\n",
       "      <td>M</td>\n",
       "      <td>16</td>\n",
       "      <td>U</td>\n",
       "      <td>GT3</td>\n",
       "      <td>T</td>\n",
       "      <td>3</td>\n",
       "      <td>3</td>\n",
       "      <td>other</td>\n",
       "      <td>services</td>\n",
       "      <td>...</td>\n",
       "      <td>4</td>\n",
       "      <td>2</td>\n",
       "      <td>5</td>\n",
       "      <td>0</td>\n",
       "      <td>13</td>\n",
       "      <td>13</td>\n",
       "      <td>10.962963</td>\n",
       "      <td>11.476190</td>\n",
       "      <td>11.835821</td>\n",
       "      <td>11.657627</td>\n",
       "    </tr>\n",
       "    <tr>\n",
       "      <th>47</th>\n",
       "      <td>GP</td>\n",
       "      <td>M</td>\n",
       "      <td>16</td>\n",
       "      <td>U</td>\n",
       "      <td>GT3</td>\n",
       "      <td>T</td>\n",
       "      <td>4</td>\n",
       "      <td>3</td>\n",
       "      <td>health</td>\n",
       "      <td>services</td>\n",
       "      <td>...</td>\n",
       "      <td>2</td>\n",
       "      <td>2</td>\n",
       "      <td>2</td>\n",
       "      <td>4</td>\n",
       "      <td>19</td>\n",
       "      <td>20</td>\n",
       "      <td>13.583333</td>\n",
       "      <td>11.476190</td>\n",
       "      <td>11.835821</td>\n",
       "      <td>11.657627</td>\n",
       "    </tr>\n",
       "    <tr>\n",
       "      <th>190</th>\n",
       "      <td>GP</td>\n",
       "      <td>F</td>\n",
       "      <td>16</td>\n",
       "      <td>U</td>\n",
       "      <td>GT3</td>\n",
       "      <td>T</td>\n",
       "      <td>2</td>\n",
       "      <td>3</td>\n",
       "      <td>services</td>\n",
       "      <td>services</td>\n",
       "      <td>...</td>\n",
       "      <td>3</td>\n",
       "      <td>3</td>\n",
       "      <td>2</td>\n",
       "      <td>10</td>\n",
       "      <td>11</td>\n",
       "      <td>13</td>\n",
       "      <td>12.253012</td>\n",
       "      <td>11.476190</td>\n",
       "      <td>11.835821</td>\n",
       "      <td>11.657627</td>\n",
       "    </tr>\n",
       "  </tbody>\n",
       "</table>\n",
       "<p>307 rows × 34 columns</p>\n",
       "</div>"
      ],
      "text/plain": [
       "    school gender  age address famsize Pstatus  Medu  Fedu      Mjob  \\\n",
       "295     GP      M   17       U     GT3       T     3     3    health   \n",
       "224     GP      F   16       U     GT3       T     4     4   teacher   \n",
       "197     GP      M   16       R     LE3       T     3     3   teacher   \n",
       "231     GP      M   17       R     GT3       T     2     2     other   \n",
       "7       GP      F   17       U     GT3       A     4     4     other   \n",
       "..     ...    ...  ...     ...     ...     ...   ...   ...       ...   \n",
       "357     MS      F   17       U     LE3       A     3     2  services   \n",
       "210     GP      F   19       U     GT3       T     3     3     other   \n",
       "117     GP      M   16       U     GT3       T     3     3     other   \n",
       "47      GP      M   16       U     GT3       T     4     3    health   \n",
       "190     GP      F   16       U     GT3       T     2     3  services   \n",
       "\n",
       "         Fjob  ... freetime goout  health  absences  G1   y Mjob_encoded  \\\n",
       "295     other  ...        4     3       5         4  14  11    13.583333   \n",
       "224  services  ...        3     2       5         0  13  14    11.744681   \n",
       "197     other  ...        3     4       3         8   9  10    11.744681   \n",
       "231     other  ...        5     2       1         4  11  11    10.962963   \n",
       "7     teacher  ...        1     4       1         6   6   6    10.962963   \n",
       "..        ...  ...      ...   ...     ...       ...  ..  ..          ...   \n",
       "357     other  ...        2     3       5         2  12  11    12.253012   \n",
       "210     other  ...        3     3       3        10   8   8    10.962963   \n",
       "117  services  ...        4     2       5         0  13  13    10.962963   \n",
       "47   services  ...        2     2       2         4  19  20    13.583333   \n",
       "190  services  ...        3     3       2        10  11  13    12.253012   \n",
       "\n",
       "    Fjob_encoded schoolsup_encoded higher_encoded  \n",
       "295    11.339181         11.835821      11.657627  \n",
       "224    11.476190         11.835821      11.657627  \n",
       "197    11.339181         11.835821      11.657627  \n",
       "231    11.339181         11.835821      11.657627  \n",
       "7      13.565217          9.871795      11.657627  \n",
       "..           ...               ...            ...  \n",
       "357    11.339181         11.835821      11.657627  \n",
       "210    11.339181         11.835821      11.657627  \n",
       "117    11.476190         11.835821      11.657627  \n",
       "47     11.476190         11.835821      11.657627  \n",
       "190    11.476190         11.835821      11.657627  \n",
       "\n",
       "[307 rows x 34 columns]"
      ]
     },
     "execution_count": 93,
     "metadata": {},
     "output_type": "execute_result"
    }
   ],
   "source": [
    "X_y_train"
   ]
  },
  {
   "cell_type": "code",
   "execution_count": 94,
   "id": "c440dde3",
   "metadata": {},
   "outputs": [],
   "source": [
    "factors_to_use = numeric_factors_to_use + ['Mjob_encoded', 'Fjob_encoded', 'schoolsup_encoded', 'higher_encoded']"
   ]
  },
  {
   "cell_type": "code",
   "execution_count": 95,
   "id": "b3a1bca8",
   "metadata": {},
   "outputs": [],
   "source": [
    "X_train_encoded = X_y_train.copy(deep=True)"
   ]
  },
  {
   "cell_type": "code",
   "execution_count": 96,
   "id": "b4fa8277",
   "metadata": {},
   "outputs": [],
   "source": [
    "X_train_encoded = X_train_encoded[factors_to_use]"
   ]
  },
  {
   "cell_type": "code",
   "execution_count": 97,
   "id": "0faa2e41",
   "metadata": {},
   "outputs": [
    {
     "data": {
      "text/html": [
       "<div>\n",
       "<style scoped>\n",
       "    .dataframe tbody tr th:only-of-type {\n",
       "        vertical-align: middle;\n",
       "    }\n",
       "\n",
       "    .dataframe tbody tr th {\n",
       "        vertical-align: top;\n",
       "    }\n",
       "\n",
       "    .dataframe thead th {\n",
       "        text-align: right;\n",
       "    }\n",
       "</style>\n",
       "<table border=\"1\" class=\"dataframe\">\n",
       "  <thead>\n",
       "    <tr style=\"text-align: right;\">\n",
       "      <th></th>\n",
       "      <th>age</th>\n",
       "      <th>traveltime</th>\n",
       "      <th>G1</th>\n",
       "      <th>studytime</th>\n",
       "      <th>Medu</th>\n",
       "      <th>Fedu</th>\n",
       "      <th>failures</th>\n",
       "      <th>Mjob_encoded</th>\n",
       "      <th>Fjob_encoded</th>\n",
       "      <th>schoolsup_encoded</th>\n",
       "      <th>higher_encoded</th>\n",
       "    </tr>\n",
       "  </thead>\n",
       "  <tbody>\n",
       "    <tr>\n",
       "      <th>295</th>\n",
       "      <td>17</td>\n",
       "      <td>1</td>\n",
       "      <td>14</td>\n",
       "      <td>1</td>\n",
       "      <td>3</td>\n",
       "      <td>3</td>\n",
       "      <td>0</td>\n",
       "      <td>13.583333</td>\n",
       "      <td>11.339181</td>\n",
       "      <td>11.835821</td>\n",
       "      <td>11.657627</td>\n",
       "    </tr>\n",
       "    <tr>\n",
       "      <th>224</th>\n",
       "      <td>16</td>\n",
       "      <td>1</td>\n",
       "      <td>13</td>\n",
       "      <td>3</td>\n",
       "      <td>4</td>\n",
       "      <td>4</td>\n",
       "      <td>0</td>\n",
       "      <td>11.744681</td>\n",
       "      <td>11.476190</td>\n",
       "      <td>11.835821</td>\n",
       "      <td>11.657627</td>\n",
       "    </tr>\n",
       "    <tr>\n",
       "      <th>197</th>\n",
       "      <td>16</td>\n",
       "      <td>3</td>\n",
       "      <td>9</td>\n",
       "      <td>1</td>\n",
       "      <td>3</td>\n",
       "      <td>3</td>\n",
       "      <td>0</td>\n",
       "      <td>11.744681</td>\n",
       "      <td>11.339181</td>\n",
       "      <td>11.835821</td>\n",
       "      <td>11.657627</td>\n",
       "    </tr>\n",
       "    <tr>\n",
       "      <th>231</th>\n",
       "      <td>17</td>\n",
       "      <td>2</td>\n",
       "      <td>11</td>\n",
       "      <td>2</td>\n",
       "      <td>2</td>\n",
       "      <td>2</td>\n",
       "      <td>0</td>\n",
       "      <td>10.962963</td>\n",
       "      <td>11.339181</td>\n",
       "      <td>11.835821</td>\n",
       "      <td>11.657627</td>\n",
       "    </tr>\n",
       "    <tr>\n",
       "      <th>7</th>\n",
       "      <td>17</td>\n",
       "      <td>2</td>\n",
       "      <td>6</td>\n",
       "      <td>2</td>\n",
       "      <td>4</td>\n",
       "      <td>4</td>\n",
       "      <td>0</td>\n",
       "      <td>10.962963</td>\n",
       "      <td>13.565217</td>\n",
       "      <td>9.871795</td>\n",
       "      <td>11.657627</td>\n",
       "    </tr>\n",
       "    <tr>\n",
       "      <th>...</th>\n",
       "      <td>...</td>\n",
       "      <td>...</td>\n",
       "      <td>...</td>\n",
       "      <td>...</td>\n",
       "      <td>...</td>\n",
       "      <td>...</td>\n",
       "      <td>...</td>\n",
       "      <td>...</td>\n",
       "      <td>...</td>\n",
       "      <td>...</td>\n",
       "      <td>...</td>\n",
       "    </tr>\n",
       "    <tr>\n",
       "      <th>357</th>\n",
       "      <td>17</td>\n",
       "      <td>2</td>\n",
       "      <td>12</td>\n",
       "      <td>2</td>\n",
       "      <td>3</td>\n",
       "      <td>2</td>\n",
       "      <td>0</td>\n",
       "      <td>12.253012</td>\n",
       "      <td>11.339181</td>\n",
       "      <td>11.835821</td>\n",
       "      <td>11.657627</td>\n",
       "    </tr>\n",
       "    <tr>\n",
       "      <th>210</th>\n",
       "      <td>19</td>\n",
       "      <td>1</td>\n",
       "      <td>8</td>\n",
       "      <td>4</td>\n",
       "      <td>3</td>\n",
       "      <td>3</td>\n",
       "      <td>0</td>\n",
       "      <td>10.962963</td>\n",
       "      <td>11.339181</td>\n",
       "      <td>11.835821</td>\n",
       "      <td>11.657627</td>\n",
       "    </tr>\n",
       "    <tr>\n",
       "      <th>117</th>\n",
       "      <td>16</td>\n",
       "      <td>2</td>\n",
       "      <td>13</td>\n",
       "      <td>1</td>\n",
       "      <td>3</td>\n",
       "      <td>3</td>\n",
       "      <td>0</td>\n",
       "      <td>10.962963</td>\n",
       "      <td>11.476190</td>\n",
       "      <td>11.835821</td>\n",
       "      <td>11.657627</td>\n",
       "    </tr>\n",
       "    <tr>\n",
       "      <th>47</th>\n",
       "      <td>16</td>\n",
       "      <td>1</td>\n",
       "      <td>19</td>\n",
       "      <td>4</td>\n",
       "      <td>4</td>\n",
       "      <td>3</td>\n",
       "      <td>0</td>\n",
       "      <td>13.583333</td>\n",
       "      <td>11.476190</td>\n",
       "      <td>11.835821</td>\n",
       "      <td>11.657627</td>\n",
       "    </tr>\n",
       "    <tr>\n",
       "      <th>190</th>\n",
       "      <td>16</td>\n",
       "      <td>1</td>\n",
       "      <td>11</td>\n",
       "      <td>2</td>\n",
       "      <td>2</td>\n",
       "      <td>3</td>\n",
       "      <td>0</td>\n",
       "      <td>12.253012</td>\n",
       "      <td>11.476190</td>\n",
       "      <td>11.835821</td>\n",
       "      <td>11.657627</td>\n",
       "    </tr>\n",
       "  </tbody>\n",
       "</table>\n",
       "<p>307 rows × 11 columns</p>\n",
       "</div>"
      ],
      "text/plain": [
       "     age  traveltime  G1  studytime  Medu  Fedu  failures  Mjob_encoded  \\\n",
       "295   17           1  14          1     3     3         0     13.583333   \n",
       "224   16           1  13          3     4     4         0     11.744681   \n",
       "197   16           3   9          1     3     3         0     11.744681   \n",
       "231   17           2  11          2     2     2         0     10.962963   \n",
       "7     17           2   6          2     4     4         0     10.962963   \n",
       "..   ...         ...  ..        ...   ...   ...       ...           ...   \n",
       "357   17           2  12          2     3     2         0     12.253012   \n",
       "210   19           1   8          4     3     3         0     10.962963   \n",
       "117   16           2  13          1     3     3         0     10.962963   \n",
       "47    16           1  19          4     4     3         0     13.583333   \n",
       "190   16           1  11          2     2     3         0     12.253012   \n",
       "\n",
       "     Fjob_encoded  schoolsup_encoded  higher_encoded  \n",
       "295     11.339181          11.835821       11.657627  \n",
       "224     11.476190          11.835821       11.657627  \n",
       "197     11.339181          11.835821       11.657627  \n",
       "231     11.339181          11.835821       11.657627  \n",
       "7       13.565217           9.871795       11.657627  \n",
       "..            ...                ...             ...  \n",
       "357     11.339181          11.835821       11.657627  \n",
       "210     11.339181          11.835821       11.657627  \n",
       "117     11.476190          11.835821       11.657627  \n",
       "47      11.476190          11.835821       11.657627  \n",
       "190     11.476190          11.835821       11.657627  \n",
       "\n",
       "[307 rows x 11 columns]"
      ]
     },
     "execution_count": 97,
     "metadata": {},
     "output_type": "execute_result"
    }
   ],
   "source": [
    "X_train_encoded"
   ]
  },
  {
   "cell_type": "code",
   "execution_count": 108,
   "id": "a733cb1b",
   "metadata": {},
   "outputs": [
    {
     "data": {
      "text/html": [
       "<div>\n",
       "<style scoped>\n",
       "    .dataframe tbody tr th:only-of-type {\n",
       "        vertical-align: middle;\n",
       "    }\n",
       "\n",
       "    .dataframe tbody tr th {\n",
       "        vertical-align: top;\n",
       "    }\n",
       "\n",
       "    .dataframe thead th {\n",
       "        text-align: right;\n",
       "    }\n",
       "</style>\n",
       "<table border=\"1\" class=\"dataframe\">\n",
       "  <thead>\n",
       "    <tr style=\"text-align: right;\">\n",
       "      <th></th>\n",
       "      <th>age</th>\n",
       "      <th>traveltime</th>\n",
       "      <th>G1</th>\n",
       "      <th>studytime</th>\n",
       "      <th>Medu</th>\n",
       "      <th>Fedu</th>\n",
       "      <th>failures</th>\n",
       "      <th>Mjob_encoded</th>\n",
       "      <th>Fjob_encoded</th>\n",
       "      <th>schoolsup_encoded</th>\n",
       "      <th>higher_encoded</th>\n",
       "    </tr>\n",
       "  </thead>\n",
       "  <tbody>\n",
       "    <tr>\n",
       "      <th>295</th>\n",
       "      <td>17</td>\n",
       "      <td>1</td>\n",
       "      <td>14</td>\n",
       "      <td>1</td>\n",
       "      <td>3</td>\n",
       "      <td>3</td>\n",
       "      <td>0</td>\n",
       "      <td>13.583333</td>\n",
       "      <td>11.339181</td>\n",
       "      <td>11.835821</td>\n",
       "      <td>11.657627</td>\n",
       "    </tr>\n",
       "    <tr>\n",
       "      <th>224</th>\n",
       "      <td>16</td>\n",
       "      <td>1</td>\n",
       "      <td>13</td>\n",
       "      <td>3</td>\n",
       "      <td>4</td>\n",
       "      <td>4</td>\n",
       "      <td>0</td>\n",
       "      <td>11.744681</td>\n",
       "      <td>11.476190</td>\n",
       "      <td>11.835821</td>\n",
       "      <td>11.657627</td>\n",
       "    </tr>\n",
       "    <tr>\n",
       "      <th>197</th>\n",
       "      <td>16</td>\n",
       "      <td>3</td>\n",
       "      <td>9</td>\n",
       "      <td>1</td>\n",
       "      <td>3</td>\n",
       "      <td>3</td>\n",
       "      <td>0</td>\n",
       "      <td>11.744681</td>\n",
       "      <td>11.339181</td>\n",
       "      <td>11.835821</td>\n",
       "      <td>11.657627</td>\n",
       "    </tr>\n",
       "    <tr>\n",
       "      <th>231</th>\n",
       "      <td>17</td>\n",
       "      <td>2</td>\n",
       "      <td>11</td>\n",
       "      <td>2</td>\n",
       "      <td>2</td>\n",
       "      <td>2</td>\n",
       "      <td>0</td>\n",
       "      <td>10.962963</td>\n",
       "      <td>11.339181</td>\n",
       "      <td>11.835821</td>\n",
       "      <td>11.657627</td>\n",
       "    </tr>\n",
       "    <tr>\n",
       "      <th>7</th>\n",
       "      <td>17</td>\n",
       "      <td>2</td>\n",
       "      <td>6</td>\n",
       "      <td>2</td>\n",
       "      <td>4</td>\n",
       "      <td>4</td>\n",
       "      <td>0</td>\n",
       "      <td>10.962963</td>\n",
       "      <td>13.565217</td>\n",
       "      <td>9.871795</td>\n",
       "      <td>11.657627</td>\n",
       "    </tr>\n",
       "    <tr>\n",
       "      <th>64</th>\n",
       "      <td>15</td>\n",
       "      <td>1</td>\n",
       "      <td>10</td>\n",
       "      <td>2</td>\n",
       "      <td>4</td>\n",
       "      <td>3</td>\n",
       "      <td>0</td>\n",
       "      <td>12.253012</td>\n",
       "      <td>11.476190</td>\n",
       "      <td>9.871795</td>\n",
       "      <td>11.657627</td>\n",
       "    </tr>\n",
       "  </tbody>\n",
       "</table>\n",
       "</div>"
      ],
      "text/plain": [
       "     age  traveltime  G1  studytime  Medu  Fedu  failures  Mjob_encoded  \\\n",
       "295   17           1  14          1     3     3         0     13.583333   \n",
       "224   16           1  13          3     4     4         0     11.744681   \n",
       "197   16           3   9          1     3     3         0     11.744681   \n",
       "231   17           2  11          2     2     2         0     10.962963   \n",
       "7     17           2   6          2     4     4         0     10.962963   \n",
       "64    15           1  10          2     4     3         0     12.253012   \n",
       "\n",
       "     Fjob_encoded  schoolsup_encoded  higher_encoded  \n",
       "295     11.339181          11.835821       11.657627  \n",
       "224     11.476190          11.835821       11.657627  \n",
       "197     11.339181          11.835821       11.657627  \n",
       "231     11.339181          11.835821       11.657627  \n",
       "7       13.565217           9.871795       11.657627  \n",
       "64      11.476190           9.871795       11.657627  "
      ]
     },
     "execution_count": 108,
     "metadata": {},
     "output_type": "execute_result"
    }
   ],
   "source": [
    "X_train_encoded.head(6)"
   ]
  },
  {
   "cell_type": "code",
   "execution_count": 99,
   "id": "a7dbacf8",
   "metadata": {
    "collapsed": true,
    "jupyter": {
     "outputs_hidden": true
    }
   },
   "outputs": [
    {
     "data": {
      "text/html": [
       "<style>#sk-container-id-4 {color: black;background-color: white;}#sk-container-id-4 pre{padding: 0;}#sk-container-id-4 div.sk-toggleable {background-color: white;}#sk-container-id-4 label.sk-toggleable__label {cursor: pointer;display: block;width: 100%;margin-bottom: 0;padding: 0.3em;box-sizing: border-box;text-align: center;}#sk-container-id-4 label.sk-toggleable__label-arrow:before {content: \"▸\";float: left;margin-right: 0.25em;color: #696969;}#sk-container-id-4 label.sk-toggleable__label-arrow:hover:before {color: black;}#sk-container-id-4 div.sk-estimator:hover label.sk-toggleable__label-arrow:before {color: black;}#sk-container-id-4 div.sk-toggleable__content {max-height: 0;max-width: 0;overflow: hidden;text-align: left;background-color: #f0f8ff;}#sk-container-id-4 div.sk-toggleable__content pre {margin: 0.2em;color: black;border-radius: 0.25em;background-color: #f0f8ff;}#sk-container-id-4 input.sk-toggleable__control:checked~div.sk-toggleable__content {max-height: 200px;max-width: 100%;overflow: auto;}#sk-container-id-4 input.sk-toggleable__control:checked~label.sk-toggleable__label-arrow:before {content: \"▾\";}#sk-container-id-4 div.sk-estimator input.sk-toggleable__control:checked~label.sk-toggleable__label {background-color: #d4ebff;}#sk-container-id-4 div.sk-label input.sk-toggleable__control:checked~label.sk-toggleable__label {background-color: #d4ebff;}#sk-container-id-4 input.sk-hidden--visually {border: 0;clip: rect(1px 1px 1px 1px);clip: rect(1px, 1px, 1px, 1px);height: 1px;margin: -1px;overflow: hidden;padding: 0;position: absolute;width: 1px;}#sk-container-id-4 div.sk-estimator {font-family: monospace;background-color: #f0f8ff;border: 1px dotted black;border-radius: 0.25em;box-sizing: border-box;margin-bottom: 0.5em;}#sk-container-id-4 div.sk-estimator:hover {background-color: #d4ebff;}#sk-container-id-4 div.sk-parallel-item::after {content: \"\";width: 100%;border-bottom: 1px solid gray;flex-grow: 1;}#sk-container-id-4 div.sk-label:hover label.sk-toggleable__label {background-color: #d4ebff;}#sk-container-id-4 div.sk-serial::before {content: \"\";position: absolute;border-left: 1px solid gray;box-sizing: border-box;top: 0;bottom: 0;left: 50%;z-index: 0;}#sk-container-id-4 div.sk-serial {display: flex;flex-direction: column;align-items: center;background-color: white;padding-right: 0.2em;padding-left: 0.2em;position: relative;}#sk-container-id-4 div.sk-item {position: relative;z-index: 1;}#sk-container-id-4 div.sk-parallel {display: flex;align-items: stretch;justify-content: center;background-color: white;position: relative;}#sk-container-id-4 div.sk-item::before, #sk-container-id-4 div.sk-parallel-item::before {content: \"\";position: absolute;border-left: 1px solid gray;box-sizing: border-box;top: 0;bottom: 0;left: 50%;z-index: -1;}#sk-container-id-4 div.sk-parallel-item {display: flex;flex-direction: column;z-index: 1;position: relative;background-color: white;}#sk-container-id-4 div.sk-parallel-item:first-child::after {align-self: flex-end;width: 50%;}#sk-container-id-4 div.sk-parallel-item:last-child::after {align-self: flex-start;width: 50%;}#sk-container-id-4 div.sk-parallel-item:only-child::after {width: 0;}#sk-container-id-4 div.sk-dashed-wrapped {border: 1px dashed gray;margin: 0 0.4em 0.5em 0.4em;box-sizing: border-box;padding-bottom: 0.4em;background-color: white;}#sk-container-id-4 div.sk-label label {font-family: monospace;font-weight: bold;display: inline-block;line-height: 1.2em;}#sk-container-id-4 div.sk-label-container {text-align: center;}#sk-container-id-4 div.sk-container {/* jupyter's `normalize.less` sets `[hidden] { display: none; }` but bootstrap.min.css set `[hidden] { display: none !important; }` so we also need the `!important` here to be able to override the default hidden behavior on the sphinx rendered scikit-learn.org. See: https://github.com/scikit-learn/scikit-learn/issues/21755 */display: inline-block !important;position: relative;}#sk-container-id-4 div.sk-text-repr-fallback {display: none;}</style><div id=\"sk-container-id-4\" class=\"sk-top-container\"><div class=\"sk-text-repr-fallback\"><pre>MinMaxScaler()</pre><b>In a Jupyter environment, please rerun this cell to show the HTML representation or trust the notebook. <br />On GitHub, the HTML representation is unable to render, please try loading this page with nbviewer.org.</b></div><div class=\"sk-container\" hidden><div class=\"sk-item\"><div class=\"sk-estimator sk-toggleable\"><input class=\"sk-toggleable__control sk-hidden--visually\" id=\"sk-estimator-id-4\" type=\"checkbox\" checked><label for=\"sk-estimator-id-4\" class=\"sk-toggleable__label sk-toggleable__label-arrow\">MinMaxScaler</label><div class=\"sk-toggleable__content\"><pre>MinMaxScaler()</pre></div></div></div></div></div>"
      ],
      "text/plain": [
       "MinMaxScaler()"
      ]
     },
     "execution_count": 99,
     "metadata": {},
     "output_type": "execute_result"
    }
   ],
   "source": [
    "scaler = MinMaxScaler()\n",
    "scaler.fit(X_train_encoded)"
   ]
  },
  {
   "cell_type": "code",
   "execution_count": 101,
   "id": "c88bf4a5",
   "metadata": {},
   "outputs": [],
   "source": [
    "X_train_scaled = scaler.transform(X_train_encoded)"
   ]
  },
  {
   "cell_type": "code",
   "execution_count": 115,
   "id": "05860d36",
   "metadata": {},
   "outputs": [
    {
     "data": {
      "text/plain": [
       "295    11\n",
       "224    14\n",
       "197    10\n",
       "231    11\n",
       "7       6\n",
       "       ..\n",
       "357    11\n",
       "210     8\n",
       "117    13\n",
       "47     20\n",
       "190    13\n",
       "Name: G3, Length: 307, dtype: int64"
      ]
     },
     "execution_count": 115,
     "metadata": {},
     "output_type": "execute_result"
    }
   ],
   "source": [
    "y_train"
   ]
  },
  {
   "cell_type": "markdown",
   "id": "8b3cab16",
   "metadata": {},
   "source": [
    "## Creating a model"
   ]
  },
  {
   "cell_type": "code",
   "execution_count": 113,
   "id": "ebf146cf",
   "metadata": {},
   "outputs": [],
   "source": [
    "model = LinearRegression()"
   ]
  },
  {
   "cell_type": "code",
   "execution_count": 116,
   "id": "fbd46bd1",
   "metadata": {
    "collapsed": true,
    "jupyter": {
     "outputs_hidden": true
    }
   },
   "outputs": [
    {
     "data": {
      "text/html": [
       "<style>#sk-container-id-5 {color: black;background-color: white;}#sk-container-id-5 pre{padding: 0;}#sk-container-id-5 div.sk-toggleable {background-color: white;}#sk-container-id-5 label.sk-toggleable__label {cursor: pointer;display: block;width: 100%;margin-bottom: 0;padding: 0.3em;box-sizing: border-box;text-align: center;}#sk-container-id-5 label.sk-toggleable__label-arrow:before {content: \"▸\";float: left;margin-right: 0.25em;color: #696969;}#sk-container-id-5 label.sk-toggleable__label-arrow:hover:before {color: black;}#sk-container-id-5 div.sk-estimator:hover label.sk-toggleable__label-arrow:before {color: black;}#sk-container-id-5 div.sk-toggleable__content {max-height: 0;max-width: 0;overflow: hidden;text-align: left;background-color: #f0f8ff;}#sk-container-id-5 div.sk-toggleable__content pre {margin: 0.2em;color: black;border-radius: 0.25em;background-color: #f0f8ff;}#sk-container-id-5 input.sk-toggleable__control:checked~div.sk-toggleable__content {max-height: 200px;max-width: 100%;overflow: auto;}#sk-container-id-5 input.sk-toggleable__control:checked~label.sk-toggleable__label-arrow:before {content: \"▾\";}#sk-container-id-5 div.sk-estimator input.sk-toggleable__control:checked~label.sk-toggleable__label {background-color: #d4ebff;}#sk-container-id-5 div.sk-label input.sk-toggleable__control:checked~label.sk-toggleable__label {background-color: #d4ebff;}#sk-container-id-5 input.sk-hidden--visually {border: 0;clip: rect(1px 1px 1px 1px);clip: rect(1px, 1px, 1px, 1px);height: 1px;margin: -1px;overflow: hidden;padding: 0;position: absolute;width: 1px;}#sk-container-id-5 div.sk-estimator {font-family: monospace;background-color: #f0f8ff;border: 1px dotted black;border-radius: 0.25em;box-sizing: border-box;margin-bottom: 0.5em;}#sk-container-id-5 div.sk-estimator:hover {background-color: #d4ebff;}#sk-container-id-5 div.sk-parallel-item::after {content: \"\";width: 100%;border-bottom: 1px solid gray;flex-grow: 1;}#sk-container-id-5 div.sk-label:hover label.sk-toggleable__label {background-color: #d4ebff;}#sk-container-id-5 div.sk-serial::before {content: \"\";position: absolute;border-left: 1px solid gray;box-sizing: border-box;top: 0;bottom: 0;left: 50%;z-index: 0;}#sk-container-id-5 div.sk-serial {display: flex;flex-direction: column;align-items: center;background-color: white;padding-right: 0.2em;padding-left: 0.2em;position: relative;}#sk-container-id-5 div.sk-item {position: relative;z-index: 1;}#sk-container-id-5 div.sk-parallel {display: flex;align-items: stretch;justify-content: center;background-color: white;position: relative;}#sk-container-id-5 div.sk-item::before, #sk-container-id-5 div.sk-parallel-item::before {content: \"\";position: absolute;border-left: 1px solid gray;box-sizing: border-box;top: 0;bottom: 0;left: 50%;z-index: -1;}#sk-container-id-5 div.sk-parallel-item {display: flex;flex-direction: column;z-index: 1;position: relative;background-color: white;}#sk-container-id-5 div.sk-parallel-item:first-child::after {align-self: flex-end;width: 50%;}#sk-container-id-5 div.sk-parallel-item:last-child::after {align-self: flex-start;width: 50%;}#sk-container-id-5 div.sk-parallel-item:only-child::after {width: 0;}#sk-container-id-5 div.sk-dashed-wrapped {border: 1px dashed gray;margin: 0 0.4em 0.5em 0.4em;box-sizing: border-box;padding-bottom: 0.4em;background-color: white;}#sk-container-id-5 div.sk-label label {font-family: monospace;font-weight: bold;display: inline-block;line-height: 1.2em;}#sk-container-id-5 div.sk-label-container {text-align: center;}#sk-container-id-5 div.sk-container {/* jupyter's `normalize.less` sets `[hidden] { display: none; }` but bootstrap.min.css set `[hidden] { display: none !important; }` so we also need the `!important` here to be able to override the default hidden behavior on the sphinx rendered scikit-learn.org. See: https://github.com/scikit-learn/scikit-learn/issues/21755 */display: inline-block !important;position: relative;}#sk-container-id-5 div.sk-text-repr-fallback {display: none;}</style><div id=\"sk-container-id-5\" class=\"sk-top-container\"><div class=\"sk-text-repr-fallback\"><pre>LinearRegression()</pre><b>In a Jupyter environment, please rerun this cell to show the HTML representation or trust the notebook. <br />On GitHub, the HTML representation is unable to render, please try loading this page with nbviewer.org.</b></div><div class=\"sk-container\" hidden><div class=\"sk-item\"><div class=\"sk-estimator sk-toggleable\"><input class=\"sk-toggleable__control sk-hidden--visually\" id=\"sk-estimator-id-5\" type=\"checkbox\" checked><label for=\"sk-estimator-id-5\" class=\"sk-toggleable__label sk-toggleable__label-arrow\">LinearRegression</label><div class=\"sk-toggleable__content\"><pre>LinearRegression()</pre></div></div></div></div></div>"
      ],
      "text/plain": [
       "LinearRegression()"
      ]
     },
     "execution_count": 116,
     "metadata": {},
     "output_type": "execute_result"
    }
   ],
   "source": [
    "model.fit(X_train_scaled, y_train)"
   ]
  },
  {
   "cell_type": "code",
   "execution_count": 117,
   "id": "e0cad532",
   "metadata": {},
   "outputs": [
    {
     "data": {
      "text/plain": [
       "0.8207404362525064"
      ]
     },
     "execution_count": 117,
     "metadata": {},
     "output_type": "execute_result"
    }
   ],
   "source": [
    "model.score(X_train_scaled, y_train)"
   ]
  },
  {
   "cell_type": "markdown",
   "id": "6abd9b0d",
   "metadata": {},
   "source": [
    "## Quality control"
   ]
  },
  {
   "cell_type": "code",
   "execution_count": 118,
   "id": "9d6c2ab5",
   "metadata": {},
   "outputs": [],
   "source": [
    "X_test['Mjob_encoded'] = mjob_target_encoder.transform(X_test['Mjob'])\n",
    "X_test['Fjob_encoded'] = fjob_target_encoder.transform(X_test['Fjob'])\n",
    "X_test['schoolsup_encoded'] = schoolsup_target_encoder.transform(X_test['schoolsup'])\n",
    "X_test['higher_encoded'] = higher_target_encoder.transform(X_test['higher'])"
   ]
  },
  {
   "cell_type": "code",
   "execution_count": 119,
   "id": "6fcdc948",
   "metadata": {},
   "outputs": [],
   "source": [
    "X_test_encoded = X_test[factors_to_use]"
   ]
  },
  {
   "cell_type": "code",
   "execution_count": 121,
   "id": "92192c60",
   "metadata": {},
   "outputs": [],
   "source": [
    "X_test_scaled = scaler.transform(X_test_encoded)"
   ]
  },
  {
   "cell_type": "code",
   "execution_count": 123,
   "id": "e58bb7e4",
   "metadata": {},
   "outputs": [
    {
     "data": {
      "text/plain": [
       "0.726363892547719"
      ]
     },
     "execution_count": 123,
     "metadata": {},
     "output_type": "execute_result"
    }
   ],
   "source": [
    "model.score(X_test_scaled, y_test)"
   ]
  },
  {
   "cell_type": "code",
   "execution_count": 124,
   "id": "5dad25d0",
   "metadata": {},
   "outputs": [
    {
     "data": {
      "text/plain": [
       "array([12.29556389, 11.13496186,  9.23502848, 12.50097855,  7.97202549,\n",
       "        7.59548334, 10.52671051, 10.9914081 , 14.97466503, 15.3202819 ,\n",
       "       12.50924805, 12.59191577, 14.24416646, 14.12688969,  9.09937801,\n",
       "       11.08069627, 13.93153623, 14.04537752, 15.95809453, 12.20905772,\n",
       "        6.67143378, 15.68982302,  8.98434064, 10.83619766,  7.99038311,\n",
       "       12.94937609, 12.39051731,  8.63914491, 14.39092562,  7.84456622,\n",
       "        7.65705823,  7.90274697, 12.26958421,  8.8951469 , 10.73672969,\n",
       "       14.07200969, 12.02055174,  7.93833316, 11.67261083, 18.09847844,\n",
       "       13.6815412 , 12.86782138, 15.24938209,  9.29402072,  6.97921845,\n",
       "       13.65775549,  8.19458716,  9.33473482, 11.23007644, 13.36659552])"
      ]
     },
     "execution_count": 124,
     "metadata": {},
     "output_type": "execute_result"
    }
   ],
   "source": [
    "model.predict(X_test_scaled)"
   ]
  },
  {
   "cell_type": "code",
   "execution_count": 125,
   "id": "8a8a8f8c",
   "metadata": {},
   "outputs": [],
   "source": [
    "def score_model(model, X_test, y_test):\n",
    "    y_preds = model.predict(X_test)\n",
    "    \n",
    "    errs = []\n",
    "    \n",
    "    for y, y_pred in zip(y_test, y_preds):\n",
    "        errs.append(abs(y - y_pred))\n",
    "        \n",
    "    mae = sum(errs) / len(errs)\n",
    "    \n",
    "    mean_y_test = sum(y_test) / len(y_test)\n",
    "    r2 = 1 - sum(err ** 2 for err in errs) / sum((y - mean_y_test) ** 2 for y in y_test)\n",
    "    \n",
    "    return mae, r2"
   ]
  },
  {
   "cell_type": "code",
   "execution_count": 126,
   "id": "650c83db",
   "metadata": {},
   "outputs": [
    {
     "data": {
      "text/plain": [
       "(1.294071521955721, 0.726363892547719)"
      ]
     },
     "execution_count": 126,
     "metadata": {},
     "output_type": "execute_result"
    }
   ],
   "source": [
    "score_model(model, X_test_scaled, y_test)"
   ]
  },
  {
   "cell_type": "code",
   "execution_count": 135,
   "id": "c1039796",
   "metadata": {},
   "outputs": [],
   "source": [
    "maes = []\n",
    "r2s = []\n",
    "\n",
    "X_y_test = X_test_encoded.copy(deep=True)\n",
    "X_y_test['y'] = y_test\n",
    "\n",
    "for i in range(1000):\n",
    "    X_y_sample = X_y_test.sample(len(X_y_test), replace=True)\n",
    "    \n",
    "    X_test_sample = X_y_sample.drop(columns=['y'])\n",
    "    X_test_sample = scaler.transform(X_test_sample)\n",
    "    y_test_sample = X_y_sample['y']\n",
    "    \n",
    "    mae_sample, r2_sample = score_model(model, X_test_sample, y_test_sample)\n",
    "    \n",
    "    maes.append(mae_sample)\n",
    "    r2s.append(r2_sample)"
   ]
  },
  {
   "cell_type": "code",
   "execution_count": 136,
   "id": "fba38322",
   "metadata": {},
   "outputs": [],
   "source": [
    "maes = list(sorted(maes))"
   ]
  },
  {
   "cell_type": "code",
   "execution_count": 138,
   "id": "0bb8c409",
   "metadata": {},
   "outputs": [],
   "source": [
    "maes = maes[25:975]"
   ]
  },
  {
   "cell_type": "code",
   "execution_count": 139,
   "id": "7a2a3c22",
   "metadata": {},
   "outputs": [
    {
     "data": {
      "text/plain": [
       "(1.0353745408510524, 1.519218999378254)"
      ]
     },
     "execution_count": 139,
     "metadata": {},
     "output_type": "execute_result"
    }
   ],
   "source": [
    "maes[0], maes[-1]"
   ]
  },
  {
   "cell_type": "code",
   "execution_count": 140,
   "id": "c8bd4430",
   "metadata": {},
   "outputs": [
    {
     "data": {
      "text/plain": [
       "<AxesSubplot: ylabel='Count'>"
      ]
     },
     "execution_count": 140,
     "metadata": {},
     "output_type": "execute_result"
    },
    {
     "data": {
      "image/png": "[encoded data removed]",
      "text/plain": [
       "<Figure size 1170x827 with 1 Axes>"
      ]
     },
     "metadata": {},
     "output_type": "display_data"
    }
   ],
   "source": [
    "sns.histplot(maes)"
   ]
  },
  {
   "cell_type": "markdown",
   "id": "d77ace2b",
   "metadata": {},
   "source": [
    "## Model interpretation"
   ]
  },
  {
   "cell_type": "code",
   "execution_count": 150,
   "id": "f9897b29",
   "metadata": {},
   "outputs": [
    {
     "data": {
      "text/plain": [
       "array([-2.07081845, -0.09387195, 14.04355785,  0.24644115,  0.37359536,\n",
       "       -0.44188986,  0.05824508,  0.51553489,  0.0292249 ,  0.17249021,\n",
       "       -0.26751205])"
      ]
     },
     "execution_count": 150,
     "metadata": {},
     "output_type": "execute_result"
    }
   ],
   "source": [
    "model.coef_"
   ]
  },
  {
   "cell_type": "code",
   "execution_count": 153,
   "id": "7a44320a",
   "metadata": {},
   "outputs": [
    {
     "name": "stdout",
     "output_type": "stream",
     "text": [
      "age -2.07\n",
      "traveltime -0.09\n",
      "G1 14.04\n",
      "studytime 0.25\n",
      "Medu 0.37\n",
      "Fedu -0.44\n",
      "failures 0.06\n",
      "Mjob_encoded 0.52\n",
      "Fjob_encoded 0.03\n",
      "schoolsup_encoded 0.17\n",
      "higher_encoded -0.27\n"
     ]
    }
   ],
   "source": [
    "for x, y in zip(X_train_encoded.columns, model.coef_):\n",
    "    print(x, round(y, 2))"
   ]
  },
  {
   "cell_type": "code",
   "execution_count": 154,
   "id": "aeb16e5e",
   "metadata": {},
   "outputs": [
    {
     "data": {
      "text/html": [
       "<div>\n",
       "<style scoped>\n",
       "    .dataframe tbody tr th:only-of-type {\n",
       "        vertical-align: middle;\n",
       "    }\n",
       "\n",
       "    .dataframe tbody tr th {\n",
       "        vertical-align: top;\n",
       "    }\n",
       "\n",
       "    .dataframe thead th {\n",
       "        text-align: right;\n",
       "    }\n",
       "</style>\n",
       "<table border=\"1\" class=\"dataframe\">\n",
       "  <thead>\n",
       "    <tr style=\"text-align: right;\">\n",
       "      <th></th>\n",
       "      <th>y</th>\n",
       "    </tr>\n",
       "    <tr>\n",
       "      <th>age</th>\n",
       "      <th></th>\n",
       "    </tr>\n",
       "  </thead>\n",
       "  <tbody>\n",
       "    <tr>\n",
       "      <th>15</th>\n",
       "      <td>12.412698</td>\n",
       "    </tr>\n",
       "    <tr>\n",
       "      <th>16</th>\n",
       "      <td>11.963855</td>\n",
       "    </tr>\n",
       "    <tr>\n",
       "      <th>17</th>\n",
       "      <td>10.961039</td>\n",
       "    </tr>\n",
       "    <tr>\n",
       "      <th>18</th>\n",
       "      <td>11.421875</td>\n",
       "    </tr>\n",
       "    <tr>\n",
       "      <th>19</th>\n",
       "      <td>10.000000</td>\n",
       "    </tr>\n",
       "    <tr>\n",
       "      <th>20</th>\n",
       "      <td>14.000000</td>\n",
       "    </tr>\n",
       "    <tr>\n",
       "      <th>21</th>\n",
       "      <td>7.000000</td>\n",
       "    </tr>\n",
       "    <tr>\n",
       "      <th>22</th>\n",
       "      <td>8.000000</td>\n",
       "    </tr>\n",
       "  </tbody>\n",
       "</table>\n",
       "</div>"
      ],
      "text/plain": [
       "             y\n",
       "age           \n",
       "15   12.412698\n",
       "16   11.963855\n",
       "17   10.961039\n",
       "18   11.421875\n",
       "19   10.000000\n",
       "20   14.000000\n",
       "21    7.000000\n",
       "22    8.000000"
      ]
     },
     "execution_count": 154,
     "metadata": {},
     "output_type": "execute_result"
    }
   ],
   "source": [
    "X_y_train.groupby('age').agg({'y': 'mean'})"
   ]
  },
  {
   "cell_type": "code",
   "execution_count": 155,
   "id": "cb8dbf03",
   "metadata": {},
   "outputs": [
    {
     "data": {
      "text/plain": [
       "<AxesSubplot: xlabel='age', ylabel='y'>"
      ]
     },
     "execution_count": 155,
     "metadata": {},
     "output_type": "execute_result"
    },
    {
     "data": {
      "image/png": "[encoded data removed]",
      "text/plain": [
       "<Figure size 1170x827 with 1 Axes>"
      ]
     },
     "metadata": {},
     "output_type": "display_data"
    }
   ],
   "source": [
    "sns.swarmplot(x=X_y_train['age'], y=X_y_train['y'])"
   ]
  }
 ],
 "metadata": {
  "kernelspec": {
   "display_name": "Python 3 (ipykernel)",
   "language": "python",
   "name": "python3"
  },
  "language_info": {
   "codemirror_mode": {
    "name": "ipython",
    "version": 3
   },
   "file_extension": ".py",
   "mimetype": "text/x-python",
   "name": "python",
   "nbconvert_exporter": "python",
   "pygments_lexer": "ipython3",
   "version": "3.10.13"
  }
 },
 "nbformat": 4,
 "nbformat_minor": 5
}
