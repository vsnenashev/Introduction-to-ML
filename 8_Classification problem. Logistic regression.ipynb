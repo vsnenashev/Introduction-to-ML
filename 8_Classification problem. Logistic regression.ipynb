{
 "cells": [
  {
   "cell_type": "code",
   "execution_count": 4,
   "id": "baed4750",
   "metadata": {},
   "outputs": [],
   "source": [
    "import pandas as pd\n",
    "import seaborn as sns\n",
    "import numpy as np"
   ]
  },
  {
   "cell_type": "code",
   "execution_count": 5,
   "id": "db13d1ba",
   "metadata": {},
   "outputs": [],
   "source": [
    "from sklearn.datasets import load_iris"
   ]
  },
  {
   "cell_type": "code",
   "execution_count": 6,
   "id": "84257982",
   "metadata": {},
   "outputs": [],
   "source": [
    "sns.set(rc={'figure.figsize': (11.7, 8.27)})"
   ]
  },
  {
   "cell_type": "markdown",
   "id": "45ee8d59",
   "metadata": {},
   "source": [
    "## Logistic regression"
   ]
  },
  {
   "cell_type": "code",
   "execution_count": 1,
   "id": "043333a4",
   "metadata": {},
   "outputs": [],
   "source": [
    "def logistic_regression_predict_solution(w, data, factor_names):\n",
    "    \"\"\"\n",
    "    Predicts probabilities for each object in the dataset using a logistic regression model.\n",
    "    \n",
    "    Args:\n",
    "        w: Weight vector (first coordinate is intercept).\n",
    "        data: Table of objects described by numerical factors.\n",
    "        factor_names: List of factor names used for prediction.\n",
    "    \n",
    "    Returns:\n",
    "        Vector of predicted probabilities rounded to 2 decimal places.\n",
    "    \"\"\"\n",
    "    \n",
    "    x0 = np.ones((len(data), 1))\n",
    "    datax = data[factor_names].to_numpy()\n",
    "    datax0 = np.hstack([x0, datax])\n",
    "    y = datax0.dot(w)\n",
    "    p = 1 / (1 + np.exp(-y))\n",
    "    \n",
    "    return p.round(2)"
   ]
  },
  {
   "cell_type": "code",
   "execution_count": 2,
   "id": "886842b8",
   "metadata": {},
   "outputs": [],
   "source": [
    "def logistic_summary_loss_gradient_solution(w, X, y):\n",
    "    \"\"\"\n",
    "    Calculates the gradient of the logistic regression loss function.\n",
    "    \n",
    "    Args:\n",
    "        w: Weight vector (first coordinate is intercept).\n",
    "        X: Matrix of factor values (first column is constant 1s).\n",
    "        y: Vector of actual classes for objects in X.\n",
    "    \n",
    "    Returns:\n",
    "        Gradient vector rounded to 2 decimal places.\n",
    "    \"\"\"\n",
    "    \n",
    "    n = len(w)\n",
    "    grad_w = np.zeros(n)\n",
    "    \n",
    "    for j in range(len(y)):\n",
    "        wx = X[j, :].dot(w)\n",
    "        wxy = -y[j] * wx\n",
    "        e = np.exp(-wxy)\n",
    "        dwi = -y[j] * ((1/(1 +e)) * X[j, :])\n",
    "        grad_w += dwi\n",
    "        \n",
    "    return grad_w.round(2)"
   ]
  },
  {
   "cell_type": "code",
   "execution_count": 4,
   "id": "5777680c",
   "metadata": {},
   "outputs": [],
   "source": [
    "def logistic_regression_solve_solution(data, factor_names, y_name, \n",
    "                                       learning_rate=0.01, eps=0.1):\n",
    "    \"\"\"\n",
    "    Builds a logistic regression model using gradient descent.\n",
    "    \n",
    "    Args:\n",
    "        data: Training dataset table.\n",
    "        factor_names: List of factor names for prediction.\n",
    "        y_name: Column name with the predicted class (-1 or 1).\n",
    "        learning_rate: Optional learning rate for gradient descent.\n",
    "        eps: Optional stopping threshold for gradient descent.\n",
    "    \n",
    "    Returns:\n",
    "        Weight vector of the model.\n",
    "    \"\"\"\n",
    "    \n",
    "    X = data[factor_names].to_numpy()\n",
    "    y = data[y_name].to_numpy()\n",
    "    \n",
    "    ones = np.ones((len(y), 1))\n",
    "    \n",
    "    X = np.hstack([ones, X])\n",
    "    \n",
    "    w_cur = np.zeros(len(factor_names) + 1)\n",
    "    \n",
    "    while True:\n",
    "        gradient_value = logistic_summary_loss_gradient_solution(w_cur, X, y)\n",
    "    \n",
    "        # It is useful to reduce the gradient value by dividing each of its coordinates by the number of objects in the training set.\n",
    "        gradient_value /= len(y)\n",
    "\n",
    "        w_new = w_cur - learning_rate * gradient_value\n",
    "        \n",
    "        if np.linalg.norm(w_new - w_cur) <= eps:\n",
    "            break\n",
    "            \n",
    "        w_cur = w_new\n",
    "    \n",
    "    return w_cur.round(2)"
   ]
  },
  {
   "cell_type": "code",
   "execution_count": 63,
   "id": "b643c62a-4aa9-4414-9f89-d3d05d71bb85",
   "metadata": {},
   "outputs": [],
   "source": [
    "data = pd.DataFrame({\n",
    "        'x1': [0.3, -0.1, -0.1, 0.4],\n",
    "        'x2': [0.1, -0.1, 0.2, -0.1],\n",
    "        'y': [1, -1, -1, 1],\n",
    "    })\n",
    "\n",
    "factor_names = ['x1', 'x2']\n",
    "y_name = 'y'\n",
    "    \n",
    "res_example_1 = np.array([-0.07, 0.94, -0.1])"
   ]
  },
  {
   "cell_type": "code",
   "execution_count": 64,
   "id": "012a82c5-989b-47af-8a1a-1524492ebd08",
   "metadata": {},
   "outputs": [],
   "source": [
    "X = data[factor_names].to_numpy()\n",
    "y = data[y_name].to_numpy()\n",
    "    \n",
    "ones = np.ones((len(y), 1))\n",
    "    \n",
    "X = np.hstack([ones, X])\n",
    "    \n",
    "w_cur = np.zeros(len(factor_names))"
   ]
  },
  {
   "cell_type": "code",
   "execution_count": 66,
   "id": "d46a3f60-c20d-4e12-a759-c8eef5e0aa36",
   "metadata": {},
   "outputs": [
    {
     "data": {
      "text/plain": [
       "(array([[ 1. ,  0.3,  0.1],\n",
       "        [ 1. , -0.1, -0.1],\n",
       "        [ 1. , -0.1,  0.2],\n",
       "        [ 1. ,  0.4, -0.1]]),\n",
       " array([0., 0.]))"
      ]
     },
     "execution_count": 66,
     "metadata": {},
     "output_type": "execute_result"
    }
   ],
   "source": [
    "X, w_cur"
   ]
  },
  {
   "cell_type": "code",
   "execution_count": 5,
   "id": "1ae8bcf9-2935-4159-9f45-af3c0874f54c",
   "metadata": {
    "collapsed": true,
    "jupyter": {
     "outputs_hidden": true
    }
   },
   "outputs": [
    {
     "ename": "NameError",
     "evalue": "name 'data_example_1' is not defined",
     "output_type": "error",
     "traceback": [
      "\u001b[0;31m---------------------------------------------------------------------------\u001b[0m",
      "\u001b[0;31mNameError\u001b[0m                                 Traceback (most recent call last)",
      "Cell \u001b[0;32mIn[5], line 28\u001b[0m\n\u001b[1;32m     26\u001b[0m     \u001b[38;5;28;01mfor\u001b[39;00m i \u001b[38;5;129;01min\u001b[39;00m \u001b[38;5;28mrange\u001b[39m(\u001b[38;5;28mlen\u001b[39m(ws)):\n\u001b[1;32m     27\u001b[0m         \u001b[38;5;28mprint\u001b[39m(\u001b[38;5;124mf\u001b[39m\u001b[38;5;124m'\u001b[39m\u001b[38;5;124mw\u001b[39m\u001b[38;5;132;01m{\u001b[39;00mi\u001b[38;5;132;01m}\u001b[39;00m\u001b[38;5;124m:\u001b[39m\u001b[38;5;124m'\u001b[39m, ws[i])\n\u001b[0;32m---> 28\u001b[0m logistic_regression_solve_solution(\u001b[43mdata_example_1\u001b[49m, factor_names_example_1, y_name_example_1, learning_rate\u001b[38;5;241m=\u001b[39m\u001b[38;5;241m0.001\u001b[39m, eps\u001b[38;5;241m=\u001b[39m\u001b[38;5;241m0.0001\u001b[39m)\n",
      "\u001b[0;31mNameError\u001b[0m: name 'data_example_1' is not defined"
     ]
    }
   ],
   "source": [
    "logistic_regression_solve_solution(data_example_1, factor_names_example_1, y_name_example_1, learning_rate=0.001, eps=0.0001)"
   ]
  },
  {
   "cell_type": "code",
   "execution_count": 6,
   "id": "65d509b5",
   "metadata": {},
   "outputs": [],
   "source": [
    "def logistic_regression_solve_res():\n",
    "    # Load the dataset for testing classification algorithms\n",
    "    iris = load_iris()\n",
    "    \n",
    "    # Convert the target classes to values -1 and 1\n",
    "    y = (iris.target > 1).astype('int64').reshape((len(iris.target), 1))\n",
    "    y[y == 0] = -1\n",
    "    \n",
    "    # Create a table based on the dataset.\n",
    "    # The features in the data will be named 'x1', 'x2', 'x3', and 'x4'.\n",
    "    # Object classes are placed in the 'y' column\n",
    "    data = pd.DataFrame(\n",
    "        columns=['x1', 'x2', 'x3', 'x4', 'y'],\n",
    "        data=np.hstack([iris.data, y])\n",
    "    )\n",
    "    \n",
    "    # Only the features 'x1' and 'x2' will be used for prediction\n",
    "    factor_names = ['x1', 'x2']\n",
    "    # The predicted characteristic is 'y'\n",
    "    y_name = 'y'\n",
    "    \n",
    "    # Determine the optimal weights for the developed logistic regression model\n",
    "    ws = logistic_regression_solve_solution(data, factor_names, y_name,\n",
    "                                            learning_rate=0.01, eps=0.001)\n",
    "    \n",
    "    for i in range(len(ws)):\n",
    "        print(f'w{i}:', ws[i])"
   ]
  },
  {
   "cell_type": "code",
   "execution_count": 75,
   "id": "3abc9924",
   "metadata": {},
   "outputs": [
    {
     "name": "stdout",
     "output_type": "stream",
     "text": [
      "w0: -0.17\n",
      "w1: 0.24\n",
      "w2: -0.6\n"
     ]
    }
   ],
   "source": [
    "logistic_regression_solve_res()"
   ]
  }
 ],
 "metadata": {
  "kernelspec": {
   "display_name": "Python 3 (ipykernel)",
   "language": "python",
   "name": "python3"
  },
  "language_info": {
   "codemirror_mode": {
    "name": "ipython",
    "version": 3
   },
   "file_extension": ".py",
   "mimetype": "text/x-python",
   "name": "python",
   "nbconvert_exporter": "python",
   "pygments_lexer": "ipython3",
   "version": "3.10.13"
  }
 },
 "nbformat": 4,
 "nbformat_minor": 5
}
