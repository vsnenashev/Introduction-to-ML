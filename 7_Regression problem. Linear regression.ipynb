{
 "cells": [
  {
   "cell_type": "code",
   "execution_count": 1,
   "id": "76604282",
   "metadata": {
    "collapsed": true,
    "jupyter": {
     "outputs_hidden": true
    }
   },
   "outputs": [
    {
     "ename": "ModuleNotFoundError",
     "evalue": "No module named 'seaborn'",
     "output_type": "error",
     "traceback": [
      "\u001b[1;31m---------------------------------------------------------------------------\u001b[0m",
      "\u001b[1;31mModuleNotFoundError\u001b[0m                       Traceback (most recent call last)",
      "Cell \u001b[1;32mIn[1], line 2\u001b[0m\n\u001b[0;32m      1\u001b[0m \u001b[38;5;28;01mimport\u001b[39;00m \u001b[38;5;21;01mpandas\u001b[39;00m \u001b[38;5;28;01mas\u001b[39;00m \u001b[38;5;21;01mpd\u001b[39;00m\n\u001b[1;32m----> 2\u001b[0m \u001b[38;5;28;01mimport\u001b[39;00m \u001b[38;5;21;01mseaborn\u001b[39;00m \u001b[38;5;28;01mas\u001b[39;00m \u001b[38;5;21;01msns\u001b[39;00m\n",
      "\u001b[1;31mModuleNotFoundError\u001b[0m: No module named 'seaborn'"
     ]
    }
   ],
   "source": [
    "import pandas as pd\n",
    "import seaborn as sns"
   ]
  },
  {
   "cell_type": "code",
   "execution_count": null,
   "id": "647eef99",
   "metadata": {},
   "outputs": [],
   "source": [
    "sns.set(rc={'figure.figsize': (11.7, 8.27)})"
   ]
  },
  {
   "cell_type": "code",
   "execution_count": null,
   "id": "d2b96a5f",
   "metadata": {},
   "outputs": [],
   "source": [
    "def round_to_2(x):\n",
    "    \n",
    "    return round(float(x), 2)"
   ]
  },
  {
   "cell_type": "markdown",
   "id": "126499b4",
   "metadata": {},
   "source": [
    "## Linear regression with two parameters"
   ]
  },
  {
   "cell_type": "code",
   "execution_count": 1,
   "id": "6a3f9532",
   "metadata": {},
   "outputs": [],
   "source": [
    "def two_parameters_linear_regression_solution(data, x_name, y_name):\n",
    "    \"\"\"\n",
    "    Uses the method of least squares (MНК) on the 'data' table to construct a linear regression model, predicting 'y_name' based on 'x_name'.\n",
    "    \n",
    "    Args:\n",
    "    data: Data table.\n",
    "    x_name: Column name predicting the target.\n",
    "    y_name: Column name holding the predicted values.\n",
    "    \n",
    "    Returns:\n",
    "    Returns the model parameters: intercept (w0) and coefficient (w1) for 'x_name'.\n",
    "    Each parameter rounded to 2 decimal places.\n",
    "    \"\"\"\n",
    "    \n",
    "    x = data[x_name]\n",
    "    y = data[y_name]\n",
    "    xs = x.mean()\n",
    "    ys = y.mean()\n",
    "    w1 = ((x - xs) * (y - ys)).sum()/((x - xs) ** 2).sum()\n",
    "    w0 = ys - w1 * xs\n",
    "    \n",
    "    return round_to_2(w0), round_to_2(w1)"
   ]
  },
  {
   "cell_type": "markdown",
   "id": "26143b7c",
   "metadata": {},
   "source": [
    "## Basic concepts of linear algebra"
   ]
  },
  {
   "cell_type": "code",
   "execution_count": 2,
   "id": "4cac75b5",
   "metadata": {},
   "outputs": [],
   "source": [
    "def matrix_multiplication_solution(matrix_a, matrix_b):\n",
    "    \"\"\"\n",
    "    Performs matrix multiplication; returns -1 if not possible.\n",
    "    \n",
    "    Args:\n",
    "    matrix_a: First matrix.\n",
    "    matrix_b: Second matrix.\n",
    "    \n",
    "    Returns:\n",
    "    Resulting matrix rounded to 2 decimal places.\n",
    "    \"\"\"\n",
    "    \n",
    "    n, m = len(matrix_a), len(matrix_a[0])\n",
    "    m1, k = len(matrix_b), len(matrix_b[0])\n",
    "    \n",
    "    if m != m1:\n",
    "        return -1\n",
    "\n",
    "    mat = [[0] * k for _ in range(n)]\n",
    "\n",
    "    for i in range(n):\n",
    "        for j in range(k):\n",
    "            for o in range(m):\n",
    "                mat[i][j] += matrix_a[i][o] * matrix_b[o][j]\n",
    "                \n",
    "    for i in range(n):\n",
    "        for j in range(k):\n",
    "            mat[i][j] = round_to_2(mat[i][j])\n",
    "\n",
    "    return mat"
   ]
  },
  {
   "cell_type": "code",
   "execution_count": 3,
   "id": "a24034c8",
   "metadata": {},
   "outputs": [],
   "source": [
    "def transpose_matrix_solution(matrix):\n",
    "    \"\"\"\n",
    "    Transposes the given matrix.\n",
    "    \n",
    "    Args:\n",
    "    matrix: Matrix to transpose.\n",
    "    \n",
    "    Returns:\n",
    "    Transposed matrix.\n",
    "    \"\"\"\n",
    "    \n",
    "    n, m = len(matrix), len(matrix[0])\n",
    "\n",
    "    mat = [[0] * n for _ in range(m)]\n",
    "\n",
    "    for i in range(m):\n",
    "        for j in range(n):\n",
    "            mat[i][j] = matrix[j][i]\n",
    "\n",
    "    return mat"
   ]
  },
  {
   "cell_type": "markdown",
   "id": "e121ae5e",
   "metadata": {},
   "source": [
    "## Multiple Linear Regression"
   ]
  },
  {
   "cell_type": "code",
   "execution_count": null,
   "id": "9c79f86e",
   "metadata": {},
   "outputs": [],
   "source": [
    "!pip3 install numpy"
   ]
  },
  {
   "cell_type": "code",
   "execution_count": null,
   "id": "a623ed7b",
   "metadata": {},
   "outputs": [],
   "source": [
    "import numpy as np"
   ]
  },
  {
   "cell_type": "code",
   "execution_count": 4,
   "id": "1eeb5162",
   "metadata": {},
   "outputs": [],
   "source": [
    "def linear_regression_predict_solution(w, data, x_names):\n",
    "    \"\"\"\n",
    "    Using the weight vector, predicts target values for objects in the dataset using linear regression.\n",
    "    \n",
    "    Args:\n",
    "    w: Weight vector of the linear regression model.\n",
    "    data: Dataset table with object descriptions.\n",
    "    x_names: List of factor names used for prediction.\n",
    "    \n",
    "    Returns:\n",
    "    Vector of predicted target values.\n",
    "    \"\"\"\n",
    "    \n",
    "    x0 = np.ones((len(data), 1))\n",
    "    datax = data[x_names].to_numpy()\n",
    "    datax0 = np.hstack([x0, datax])\n",
    "    y = datax0.dot(w)\n",
    "    \n",
    "    return y.round(2)"
   ]
  },
  {
   "cell_type": "code",
   "execution_count": 5,
   "id": "8c16cd86",
   "metadata": {},
   "outputs": [],
   "source": [
    "def linear_regression_solve_solution(data, x_names, y_name):\n",
    "    \"\"\"\n",
    "    Builds a linear regression model using the least squares method on the dataset.\n",
    "    \n",
    "    Args:\n",
    "    data: Training dataset table.\n",
    "    x_names: List of factor names for prediction.\n",
    "    y_name: Column name holding the predicted values.\n",
    "    \n",
    "    Returns:\n",
    "    Weight vector of the model.\n",
    "    \"\"\"\n",
    "    \n",
    "    x0 = np.ones((len(data), 1))\n",
    "    y = data[y_name].to_numpy()\n",
    "    datax = data[x_names].to_numpy()\n",
    "    datax0 = np.hstack([x0, datax])\n",
    "    \n",
    "    xtx = np.matmul(datax0.T, datax0)\n",
    "    xtx_inv = np.linalg.inv(xtx)\n",
    "    b = np.matmul(xtx_inv, datax0.T)\n",
    "    w = b.dot(y)\n",
    "    \n",
    "    return w.round(2)"
   ]
  },
  {
   "cell_type": "code",
   "execution_count": null,
   "id": "97b325ac-7977-41a6-b5e7-2a7f3903e148",
   "metadata": {},
   "outputs": [],
   "source": []
  }
 ],
 "metadata": {
  "kernelspec": {
   "display_name": "Python 3 (ipykernel)",
   "language": "python",
   "name": "python3"
  },
  "language_info": {
   "codemirror_mode": {
    "name": "ipython",
    "version": 3
   },
   "file_extension": ".py",
   "mimetype": "text/x-python",
   "name": "python",
   "nbconvert_exporter": "python",
   "pygments_lexer": "ipython3",
   "version": "3.10.13"
  }
 },
 "nbformat": 4,
 "nbformat_minor": 5
}
